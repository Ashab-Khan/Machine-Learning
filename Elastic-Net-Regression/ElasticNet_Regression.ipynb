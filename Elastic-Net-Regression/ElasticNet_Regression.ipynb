{
  "nbformat": 4,
  "nbformat_minor": 0,
  "metadata": {
    "colab": {
      "provenance": []
    },
    "kernelspec": {
      "name": "python3",
      "display_name": "Python 3"
    },
    "language_info": {
      "name": "python"
    }
  },
  "cells": [
    {
      "cell_type": "code",
      "execution_count": null,
      "metadata": {
        "id": "S-8UMHQZ93z_"
      },
      "outputs": [],
      "source": [
        "from sklearn.model_selection import train_test_split\n",
        "from sklearn.linear_model import LinearRegression\n",
        "from sklearn.linear_model import Ridge\n",
        "from sklearn.linear_model import Lasso\n",
        "from sklearn.metrics import r2_score\n",
        "from sklearn.datasets import load_diabetes\n",
        "from sklearn.linear_model import ElasticNet"
      ]
    },
    {
      "cell_type": "code",
      "source": [
        "X,Y=load_diabetes(return_X_y=True)\n",
        "x_train,x_test,y_train,y_test=train_test_split(X,Y,test_size=0.2,random_state=2)"
      ],
      "metadata": {
        "id": "5dRV7aV--f-a"
      },
      "execution_count": null,
      "outputs": []
    },
    {
      "cell_type": "markdown",
      "source": [
        "# **LINEAR REGRESSION**"
      ],
      "metadata": {
        "id": "uT4ZiXho_2-_"
      }
    },
    {
      "cell_type": "code",
      "source": [
        "l=LinearRegression()\n",
        "l.fit(x_train,y_train)\n",
        "y_pred=l.predict(x_test)\n",
        "r2_score(y_test,y_pred)"
      ],
      "metadata": {
        "colab": {
          "base_uri": "https://localhost:8080/"
        },
        "id": "doS1q8BM-vdM",
        "outputId": "c0b3ba23-1d00-431d-8c3f-14dadb5c293a"
      },
      "execution_count": null,
      "outputs": [
        {
          "output_type": "execute_result",
          "data": {
            "text/plain": [
              "0.4399338661568968"
            ]
          },
          "metadata": {},
          "execution_count": 14
        }
      ]
    },
    {
      "cell_type": "markdown",
      "source": [
        "# **RIDGE REGRESSION**"
      ],
      "metadata": {
        "id": "no52M4Pd_7oW"
      }
    },
    {
      "cell_type": "code",
      "source": [
        "r=Ridge(alpha=0.1)\n",
        "r.fit(x_train,y_train)\n",
        "y_pred=r.predict(x_test)\n",
        "r2_score(y_test,y_pred)"
      ],
      "metadata": {
        "colab": {
          "base_uri": "https://localhost:8080/"
        },
        "id": "0RdHieP5-2no",
        "outputId": "351ac097-a8af-44fa-9d8d-3e68931e2637"
      },
      "execution_count": null,
      "outputs": [
        {
          "output_type": "execute_result",
          "data": {
            "text/plain": [
              "0.45199494197195456"
            ]
          },
          "metadata": {},
          "execution_count": 18
        }
      ]
    },
    {
      "cell_type": "markdown",
      "source": [
        "# **LASSO REGRESSION**"
      ],
      "metadata": {
        "id": "MWJyhgIlAAyv"
      }
    },
    {
      "cell_type": "code",
      "source": [
        "la=Lasso(alpha=0.01)\n",
        "la.fit(x_train,y_train)\n",
        "y_pred=la.predict(x_test)\n",
        "r2_score(y_test,y_pred)"
      ],
      "metadata": {
        "colab": {
          "base_uri": "https://localhost:8080/"
        },
        "id": "E9uiIE7F-62f",
        "outputId": "83fe2792-84f2-4f8d-b131-58aa3c3a455e"
      },
      "execution_count": null,
      "outputs": [
        {
          "output_type": "execute_result",
          "data": {
            "text/plain": [
              "0.44111855963110613"
            ]
          },
          "metadata": {},
          "execution_count": 27
        }
      ]
    },
    {
      "cell_type": "markdown",
      "source": [
        "# **ELASTIC NET**"
      ],
      "metadata": {
        "id": "FLlOI7_ZAF_a"
      }
    },
    {
      "cell_type": "code",
      "source": [
        "e=ElasticNet(alpha=0.005,l1_ratio=0.90)\n",
        "e.fit(x_train,y_train)\n",
        "y_pred=e.predict(x_test)\n",
        "r2_score(y_test,y_pred)"
      ],
      "metadata": {
        "colab": {
          "base_uri": "https://localhost:8080/"
        },
        "id": "ltAxTfK5-9tM",
        "outputId": "deb21d6d-9d49-42c3-9520-a5a7a5dcb5cb"
      },
      "execution_count": null,
      "outputs": [
        {
          "output_type": "execute_result",
          "data": {
            "text/plain": [
              "0.4531474541554823"
            ]
          },
          "metadata": {},
          "execution_count": 39
        }
      ]
    }
  ]
}