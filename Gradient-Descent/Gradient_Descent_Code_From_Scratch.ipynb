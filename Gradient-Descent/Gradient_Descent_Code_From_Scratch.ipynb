{
  "nbformat": 4,
  "nbformat_minor": 0,
  "metadata": {
    "colab": {
      "provenance": []
    },
    "kernelspec": {
      "name": "python3",
      "display_name": "Python 3"
    },
    "language_info": {
      "name": "python"
    }
  },
  "cells": [
    {
      "cell_type": "code",
      "execution_count": null,
      "metadata": {
        "id": "gfL9KK0-ZKiw"
      },
      "outputs": [],
      "source": [
        "from sklearn.datasets import make_regression\n",
        "import matplotlib.pyplot as plt\n",
        "import numpy as np\n",
        "from sklearn.model_selection import cross_val_score"
      ]
    },
    {
      "cell_type": "code",
      "source": [
        "X,Y=make_regression(n_samples=100,n_features=1,n_informative=1,n_targets=1,noise=20)"
      ],
      "metadata": {
        "id": "aay9oXGRZdfU"
      },
      "execution_count": null,
      "outputs": []
    },
    {
      "cell_type": "code",
      "source": [
        "plt.scatter(X,Y)"
      ],
      "metadata": {
        "colab": {
          "base_uri": "https://localhost:8080/",
          "height": 447
        },
        "id": "K4Xyu9DQZpdr",
        "outputId": "dbde64d9-048f-4951-cae8-ad952c162326"
      },
      "execution_count": null,
      "outputs": [
        {
          "output_type": "execute_result",
          "data": {
            "text/plain": [
              "<matplotlib.collections.PathCollection at 0x79a535fc8590>"
            ]
          },
          "metadata": {},
          "execution_count": 88
        },
        {
          "output_type": "display_data",
          "data": {
            "text/plain": [
              "<Figure size 640x480 with 1 Axes>"
            ],
            "image/png": "[encoded data removed]"
          },
          "metadata": {}
        }
      ]
    },
    {
      "cell_type": "code",
      "source": [
        "from sklearn.metrics import r2_score\n",
        "from sklearn.model_selection import train_test_split\n",
        "X_train,X_test,Y_train,Y_test=train_test_split(X,Y,test_size=0.2,random_state=5)"
      ],
      "metadata": {
        "id": "zRWcKngTiy94"
      },
      "execution_count": null,
      "outputs": []
    },
    {
      "cell_type": "code",
      "source": [
        "from sklearn.linear_model import LinearRegression\n",
        "lr=LinearRegression()\n",
        "lr.fit(X_train,Y_train)\n",
        "y_pred=lr.predict(X_test)"
      ],
      "metadata": {
        "id": "sQ187INmZtdz"
      },
      "execution_count": null,
      "outputs": []
    },
    {
      "cell_type": "code",
      "source": [
        "print(lr.coef_)\n",
        "print(lr.intercept_)\n",
        "print('R2 score :',r2_score(Y_test,y_pred))\n",
        "print(np.mean(cross_val_score(lr,X,Y,scoring='r2',cv=10)))\n"
      ],
      "metadata": {
        "colab": {
          "base_uri": "https://localhost:8080/"
        },
        "id": "KKOa6OtrZ7B4",
        "outputId": "94b7727d-6d63-4787-da38-ea8a4aafa75d"
      },
      "execution_count": null,
      "outputs": [
        {
          "output_type": "stream",
          "name": "stdout",
          "text": [
            "[51.74951648]\n",
            "-4.325634622858348\n",
            "R2 score : 0.9269723917972045\n",
            "0.8571744647608573\n"
          ]
        }
      ]
    },
    {
      "cell_type": "markdown",
      "source": [
        "# **OWN GRADIENT DESCENT CLASS**"
      ],
      "metadata": {
        "id": "N8r9jTZuky4q"
      }
    },
    {
      "cell_type": "code",
      "source": [
        "class GDRegressor:\n",
        "     def __init__(self,learning_rate,epochs):\n",
        "         self.epochs=epochs\n",
        "         self.m=100\n",
        "         self.b=-120\n",
        "         self.learning_rate=learning_rate\n",
        "\n",
        "     def fit(self,X,Y):\n",
        "         for i in range(self.epochs):\n",
        "             loss_slope_b=-2*np.sum(Y-self.m*X.ravel()-self.b)\n",
        "             loss_slope_m=-2*np.sum((Y-self.m*X.ravel()-self.b)*X.ravel())\n",
        "             self.b=self.b-self.learning_rate*loss_slope_b\n",
        "             self.m=self.m-self.learning_rate*loss_slope_m\n",
        "         print(self.m,self.b)\n",
        "\n",
        "     def predict(self,X):\n",
        "         return self.m*X+self.b\n"
      ],
      "metadata": {
        "id": "4lYK8DOJaI1x"
      },
      "execution_count": null,
      "outputs": []
    },
    {
      "cell_type": "code",
      "source": [
        "gd=GDRegressor(0.001,100)\n",
        "gd.fit(X,Y)"
      ],
      "metadata": {
        "colab": {
          "base_uri": "https://localhost:8080/"
        },
        "id": "f82kbw68bUUh",
        "outputId": "d9a6b4d4-fa54-449c-bb58-e642eb0a570c"
      },
      "execution_count": null,
      "outputs": [
        {
          "output_type": "stream",
          "name": "stdout",
          "text": [
            "52.53425389822134 -4.342685729781507\n"
          ]
        }
      ]
    },
    {
      "cell_type": "code",
      "source": [
        "y_pred=gd.predict(X_test)\n",
        "print('R2 score :',r2_score(Y_test,y_pred))"
      ],
      "metadata": {
        "colab": {
          "base_uri": "https://localhost:8080/"
        },
        "id": "0Vqlh5UTjvF_",
        "outputId": "0646af67-3636-4727-9568-af38ee59fc4d"
      },
      "execution_count": null,
      "outputs": [
        {
          "output_type": "stream",
          "name": "stdout",
          "text": [
            "R2 score : 0.9283987640904423\n"
          ]
        }
      ]
    }
  ]
}