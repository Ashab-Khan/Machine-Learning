{
  "nbformat": 4,
  "nbformat_minor": 0,
  "metadata": {
    "colab": {
      "provenance": []
    },
    "kernelspec": {
      "name": "python3",
      "display_name": "Python 3"
    },
    "language_info": {
      "name": "python"
    }
  },
  "cells": [
    {
      "cell_type": "code",
      "execution_count": null,
      "metadata": {
        "id": "uGydweOOlYjW"
      },
      "outputs": [],
      "source": [
        "from sklearn.datasets import make_regression\n",
        "import matplotlib.pyplot as plt\n",
        "import numpy as np\n"
      ]
    },
    {
      "cell_type": "code",
      "source": [
        "X,Y=make_regression(n_samples=100,n_features=1,n_informative=1,n_targets=1,noise=20,random_state=42)\n",
        "plt.scatter(X,Y)\n",
        "plt.show()"
      ],
      "metadata": {
        "colab": {
          "base_uri": "https://localhost:8080/",
          "height": 430
        },
        "id": "BBpjkpIPmI8p",
        "outputId": "252e8a61-b589-43f0-9add-0acf77a5b545"
      },
      "execution_count": null,
      "outputs": [
        {
          "output_type": "display_data",
          "data": {
            "text/plain": [
              "<Figure size 640x480 with 1 Axes>"
            ],
            "image/png": "[encoded data removed]"
          },
          "metadata": {}
        }
      ]
    },
    {
      "cell_type": "code",
      "source": [
        "from sklearn.linear_model import LinearRegression\n",
        "from sklearn.model_selection import train_test_split\n",
        "from sklearn.metrics import r2_score"
      ],
      "metadata": {
        "id": "MqIQo-zmmikN"
      },
      "execution_count": null,
      "outputs": []
    },
    {
      "cell_type": "code",
      "source": [
        "x_train,x_test,y_train,y_test=train_test_split(X,Y,test_size=0.2,random_state=4)"
      ],
      "metadata": {
        "id": "JPJL-bNim0cO"
      },
      "execution_count": null,
      "outputs": []
    },
    {
      "cell_type": "code",
      "source": [
        "lr=LinearRegression()\n",
        "lr.fit(x_train,y_train)\n",
        "y_pred=lr.predict(x_test)\n"
      ],
      "metadata": {
        "id": "su1FI-68nAjN"
      },
      "execution_count": null,
      "outputs": []
    },
    {
      "cell_type": "code",
      "source": [
        "print('R2 SCORE :',r2_score(y_test,y_pred))\n",
        "print('COEFFICIENT :',lr.coef_)\n",
        "print('INTERCEPT :',lr.intercept_)"
      ],
      "metadata": {
        "colab": {
          "base_uri": "https://localhost:8080/"
        },
        "id": "arDIUc_xnMoh",
        "outputId": "0b4364fc-f4f6-4ee2-9ba3-2dae44d73907"
      },
      "execution_count": null,
      "outputs": [
        {
          "output_type": "stream",
          "name": "stdout",
          "text": [
            "R2 SCORE : 0.8322683212439251\n",
            "COEFFICIENT : [45.95640063]\n",
            "INTERCEPT : 2.3499170144707984\n"
          ]
        }
      ]
    },
    {
      "cell_type": "code",
      "source": [
        "from sklearn.linear_model import Ridge\n",
        "ridge=Ridge(alpha=0.01)\n",
        "ridge.fit(x_train,y_train)\n",
        "y_pred=ridge.predict(x_test)\n",
        "print('R2 SCORE :',r2_score(y_test,y_pred))\n",
        "print('COEFFICIENT :',ridge.coef_)\n",
        "print('INTERCEPT :',ridge.intercept_)\n"
      ],
      "metadata": {
        "colab": {
          "base_uri": "https://localhost:8080/"
        },
        "id": "PVrj6-iWnbUg",
        "outputId": "43fe81fd-f4b6-43a8-b881-763736548fbb"
      },
      "execution_count": null,
      "outputs": [
        {
          "output_type": "stream",
          "name": "stdout",
          "text": [
            "R2 SCORE : 0.832244752150332\n",
            "COEFFICIENT : [45.94890534]\n",
            "INTERCEPT : 2.349332180022754\n"
          ]
        }
      ]
    },
    {
      "cell_type": "code",
      "source": [
        "ridge1=Ridge(alpha=1)\n",
        "ridge1.fit(x_train,y_train)\n",
        "y_pred=ridge1.predict(x_test)\n",
        "print('R2 SCORE :',r2_score(y_test,y_pred))\n",
        "print('COEFFICIENT :',ridge1.coef_)\n",
        "print('INTERCEPT :',ridge1.intercept_)"
      ],
      "metadata": {
        "colab": {
          "base_uri": "https://localhost:8080/"
        },
        "id": "uRrwtgfIqFNP",
        "outputId": "1be3a018-7255-4d1f-ee16-501eb01a0955"
      },
      "execution_count": null,
      "outputs": [
        {
          "output_type": "stream",
          "name": "stdout",
          "text": [
            "R2 SCORE : 0.8297697919544507\n",
            "COEFFICIENT : [45.21878108]\n",
            "INTERCEPT : 2.292362866700834\n"
          ]
        }
      ]
    },
    {
      "cell_type": "code",
      "source": [
        "ridge2=Ridge(alpha=10)\n",
        "ridge2.fit(x_train,y_train)\n",
        "y_pred=ridge2.predict(x_test)\n",
        "print('R2 SCORE :',r2_score(y_test,y_pred))\n",
        "print('COEFFICIENT :',ridge2.coef_)\n",
        "print('INTERCEPT :',ridge2.intercept_)"
      ],
      "metadata": {
        "colab": {
          "base_uri": "https://localhost:8080/"
        },
        "id": "SVDd-NVMqKGd",
        "outputId": "c8cdf693-2984-4c80-e6bf-bf384e4cd4cd"
      },
      "execution_count": null,
      "outputs": [
        {
          "output_type": "stream",
          "name": "stdout",
          "text": [
            "R2 SCORE : 0.7982051880475458\n",
            "COEFFICIENT : [39.51123387]\n",
            "INTERCEPT : 1.8470207978365845\n"
          ]
        }
      ]
    },
    {
      "cell_type": "code",
      "source": [
        "ridge3=Ridge(alpha=100)\n",
        "ridge3.fit(x_train,y_train)\n",
        "y_pred=ridge3.predict(x_test)\n",
        "print('R2 SCORE :',r2_score(y_test,y_pred))\n",
        "print('COEFFICIENT :',ridge3.coef_)\n",
        "print('INTERCEPT :',ridge3.intercept_)"
      ],
      "metadata": {
        "colab": {
          "base_uri": "https://localhost:8080/"
        },
        "id": "rzjD9XDrrFlS",
        "outputId": "850c1076-4f55-401d-f60d-83b36439b04c"
      },
      "execution_count": null,
      "outputs": [
        {
          "output_type": "stream",
          "name": "stdout",
          "text": [
            "R2 SCORE : 0.4728520713026154\n",
            "COEFFICIENT : [17.46578892]\n",
            "INTERCEPT : 0.1268836363610415\n"
          ]
        }
      ]
    },
    {
      "cell_type": "code",
      "source": [
        "plt.plot(X,Y,'o')\n",
        "plt.plot(X,lr.predict(X),color='red',label='Linear Regression')\n",
        "#plt.plot(X,ridge.predict(X),color='blue',label='alpha=0.01')\n",
        "plt.plot(X,ridge1.predict(X),color='yellow',label='alpha=1')\n",
        "plt.plot(X,ridge2.predict(X),color='green',label='alpha=10')\n",
        "plt.plot(X,ridge3.predict(X),color='black',label='alpha=100')\n",
        "plt.legend()\n",
        "plt.show()\n"
      ],
      "metadata": {
        "colab": {
          "base_uri": "https://localhost:8080/",
          "height": 430
        },
        "id": "IXdG_uWnqMxV",
        "outputId": "4835afc4-8a96-43f3-e4fc-5370193afc1e"
      },
      "execution_count": null,
      "outputs": [
        {
          "output_type": "display_data",
          "data": {
            "text/plain": [
              "<Figure size 640x480 with 1 Axes>"
            ],
            "image/png": "[encoded data removed]"
          },
          "metadata": {}
        }
      ]
    },
    {
      "cell_type": "markdown",
      "source": [
        "# **RIDGE REGRESSION CLASS**"
      ],
      "metadata": {
        "id": "uDZ_pPbOoQ3P"
      }
    },
    {
      "cell_type": "code",
      "source": [
        "class MYRIDGEREGRESSION:\n",
        "     def __init__(self,alpha=0.01):\n",
        "          self.alpha=alpha\n",
        "          self.coef_=None\n",
        "          self.intercept_=None\n",
        "\n",
        "     def fit(self,x_train,y_train):\n",
        "          num=0\n",
        "          den=0\n",
        "          for i in range(x_train.shape[0]):\n",
        "              num=num+np.sum(y_train[i]-np.mean(y_train))*(x_train[i]-np.mean(x_train))\n",
        "              den=den+np.sum((x_train[i]-np.mean(x_train))**2)\n",
        "\n",
        "          self.coef_=num/(den+self.alpha)\n",
        "          self.intercept_=np.mean(y_train)-self.coef_*np.mean(x_train)\n",
        "          print(\"Coefficient:\", self.coef_, \"Intercept:\", self.intercept_)\n",
        "\n",
        "\n",
        "     def predict(self, x_test):\n",
        "         return self.coef_ * x_test + self.intercept_"
      ],
      "metadata": {
        "id": "tz6YLZBkoPi0"
      },
      "execution_count": null,
      "outputs": []
    },
    {
      "cell_type": "code",
      "source": [
        "myrd=MYRIDGEREGRESSION(alpha=10)\n",
        "myrd.fit(x_train,y_train)\n",
        "y_pred=myrd.predict(x_test)\n",
        "print('R2 Score :',r2_score(y_test,y_pred))\n",
        "print('Coefficient :',myrd.coef_)\n",
        "print('Intercept :',myrd.intercept_)"
      ],
      "metadata": {
        "colab": {
          "base_uri": "https://localhost:8080/"
        },
        "id": "JpNczqd5pi89",
        "outputId": "3fcad15c-245a-4a09-ed70-32ee0e8648a9"
      },
      "execution_count": null,
      "outputs": [
        {
          "output_type": "stream",
          "name": "stdout",
          "text": [
            "Coefficient: [39.51123387] Intercept: [1.8470208]\n",
            "R2 Score : 0.7982051880475456\n",
            "Coefficient : [39.51123387]\n",
            "Intercept : [1.8470208]\n"
          ]
        }
      ]
    }
  ]
}