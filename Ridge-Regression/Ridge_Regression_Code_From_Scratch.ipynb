{
  "nbformat": 4,
  "nbformat_minor": 0,
  "metadata": {
    "colab": {
      "provenance": []
    },
    "kernelspec": {
      "name": "python3",
      "display_name": "Python 3"
    },
    "language_info": {
      "name": "python"
    }
  },
  "cells": [
    {
      "cell_type": "code",
      "execution_count": null,
      "metadata": {
        "id": "YQWEEXW20XuQ"
      },
      "outputs": [],
      "source": [
        "from sklearn.datasets import load_diabetes\n",
        "from sklearn.metrics import r2_score\n",
        "import numpy as np\n"
      ]
    },
    {
      "cell_type": "code",
      "source": [
        "X,Y=load_diabetes(return_X_y=True)"
      ],
      "metadata": {
        "id": "33iJjscI0yPY"
      },
      "execution_count": null,
      "outputs": []
    },
    {
      "cell_type": "code",
      "source": [
        "from sklearn.model_selection import train_test_split\n",
        "x_train,x_test,y_train,y_test=train_test_split(X,Y,test_size=0.2,random_state=4)"
      ],
      "metadata": {
        "id": "1ojn3vdc09mO"
      },
      "execution_count": null,
      "outputs": []
    },
    {
      "cell_type": "code",
      "source": [
        "from sklearn.linear_model import Ridge"
      ],
      "metadata": {
        "id": "Jk6AItOH1N_X"
      },
      "execution_count": null,
      "outputs": []
    },
    {
      "cell_type": "code",
      "source": [
        "rgd=Ridge(alpha=0.1,solver='cholesky')\n",
        "rgd.fit(x_train,y_train)\n",
        "y_pred=rgd.predict(x_test)\n",
        "print(r2_score(y_test,y_pred))\n",
        "print('COEFICIENT :',rgd.coef_)\n",
        "print('INTERCEPT :',rgd.intercept_)"
      ],
      "metadata": {
        "colab": {
          "base_uri": "https://localhost:8080/"
        },
        "id": "Pgeq2oAI1V4w",
        "outputId": "20555a80-41e9-4edf-bc67-7b170c6db849"
      },
      "execution_count": null,
      "outputs": [
        {
          "output_type": "stream",
          "name": "stdout",
          "text": [
            "0.4693128853309805\n",
            "COEFICIENT : [  44.02063391 -241.69329987  452.98665299  332.04420177  -76.33686744\n",
            "  -68.52143809 -164.98809083  149.96908118  431.61347417   58.51862681]\n",
            "INTERCEPT : 150.89053425602808\n"
          ]
        }
      ]
    },
    {
      "cell_type": "markdown",
      "source": [
        "# **RIDGE REGRESSION CLASS**"
      ],
      "metadata": {
        "id": "W7f9x2v411V4"
      }
    },
    {
      "cell_type": "code",
      "source": [
        "class MYRIDGE:\n",
        "     def __init__(self,alpha=0.1):\n",
        "         self.alpha=alpha\n",
        "         self.coef_=None\n",
        "         self.intercept_=None\n",
        "\n",
        "     def fit(self,x_train,y_train):\n",
        "         x_train=np.insert(x_train,0,1,axis=1)\n",
        "         I=np.identity(x_train.shape[1])\n",
        "         I[0, 0] = 0\n",
        "         answer=np.dot(np.linalg.inv(np.dot(x_train.T,x_train) + self.alpha*I),np.dot(x_train.T,y_train))\n",
        "         self.intercept_=answer[0]\n",
        "         self.coef_=answer[1:]\n",
        "\n",
        "     def predict(self,x_test):\n",
        "         return np.dot(x_test,self.coef_)+self.intercept_\n"
      ],
      "metadata": {
        "id": "h-Jwv-Ai10fL"
      },
      "execution_count": null,
      "outputs": []
    },
    {
      "cell_type": "code",
      "source": [
        "myr=MYRIDGE(alpha=0.1)\n",
        "myr.fit(x_train,y_train)"
      ],
      "metadata": {
        "id": "CgVItU2Q4EMY"
      },
      "execution_count": null,
      "outputs": []
    },
    {
      "cell_type": "code",
      "source": [
        "y_pred=myr.predict(x_test)\n",
        "print(r2_score(y_test,y_pred))\n",
        "print('COEFICIENT :',myr.coef_)\n",
        "print('INTERCEPT :',myr.intercept_)"
      ],
      "metadata": {
        "colab": {
          "base_uri": "https://localhost:8080/"
        },
        "id": "RRgRZOoT4kgR",
        "outputId": "c3cd7387-1769-458a-aaec-dcb26b440c35"
      },
      "execution_count": null,
      "outputs": [
        {
          "output_type": "stream",
          "name": "stdout",
          "text": [
            "0.46931288533098037\n",
            "COEFICIENT : [  44.02063391 -241.69329987  452.98665299  332.04420177  -76.33686744\n",
            "  -68.52143809 -164.98809083  149.96908118  431.61347417   58.51862681]\n",
            "INTERCEPT : 150.89053425602808\n"
          ]
        }
      ]
    }
  ]
}