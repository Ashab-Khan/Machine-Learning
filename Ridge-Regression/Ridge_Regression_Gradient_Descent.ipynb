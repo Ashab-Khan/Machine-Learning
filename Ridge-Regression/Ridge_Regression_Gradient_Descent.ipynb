{
  "nbformat": 4,
  "nbformat_minor": 0,
  "metadata": {
    "colab": {
      "provenance": []
    },
    "kernelspec": {
      "name": "python3",
      "display_name": "Python 3"
    },
    "language_info": {
      "name": "python"
    }
  },
  "cells": [
    {
      "cell_type": "code",
      "execution_count": null,
      "metadata": {
        "id": "sLjxC9TvhShu"
      },
      "outputs": [],
      "source": [
        "from sklearn.datasets import load_diabetes\n",
        "from sklearn.model_selection import train_test_split\n",
        "from sklearn.linear_model import SGDRegressor\n",
        "from sklearn.metrics import r2_score\n",
        "import numpy as np"
      ]
    },
    {
      "cell_type": "code",
      "source": [
        "X,Y=load_diabetes(return_X_y=True)\n",
        "x_train,x_test,y_train,y_test=train_test_split(X,Y,test_size=0.2,random_state=2)\n",
        "lr=SGDRegressor(penalty='l2',max_iter=500,learning_rate='constant',eta0=0.1,alpha=0.001)\n",
        "lr.fit(x_train,y_train)\n",
        "y_pred=lr.predict(x_test)\n",
        "print('R2 SCORE :',r2_score(y_test,y_pred))\n",
        "print('COFICIENT :',lr.coef_)\n",
        "print('INTERCEPT :',lr.intercept_)"
      ],
      "metadata": {
        "colab": {
          "base_uri": "https://localhost:8080/"
        },
        "id": "-MKKM8Cbhz-P",
        "outputId": "7df5b221-7856-4d6c-f255-b56564cb6d19"
      },
      "execution_count": null,
      "outputs": [
        {
          "output_type": "stream",
          "name": "stdout",
          "text": [
            "R2 SCORE : 0.40658281382951145\n",
            "COFICIENT : [  32.90511345 -106.32817936  385.03251958  265.56359889   -5.39837684\n",
            "  -63.0073631  -166.29539658  107.41302319  352.5756568   109.14826586]\n",
            "INTERCEPT : [138.10501576]\n"
          ]
        }
      ]
    },
    {
      "cell_type": "code",
      "source": [
        "from sklearn.linear_model import Ridge\n",
        "rd=Ridge(alpha=0.001,max_iter=500,solver='sparse_cg')\n"
      ],
      "metadata": {
        "id": "mL3IprVMjKMm"
      },
      "execution_count": null,
      "outputs": []
    },
    {
      "cell_type": "code",
      "source": [
        "rd.fit(x_train,y_train)\n",
        "y_pred=rd.predict(x_test)\n",
        "print('R2 SCORE :',r2_score(y_test,y_pred))\n",
        "print('COFICIENT :',rd.coef_)\n",
        "print('INTERCEPT :',rd.intercept_)"
      ],
      "metadata": {
        "colab": {
          "base_uri": "https://localhost:8080/"
        },
        "id": "31YsgpIAjpXf",
        "outputId": "1b1b0c4d-7fc3-4918-b81c-b741992bcf41"
      },
      "execution_count": null,
      "outputs": [
        {
          "output_type": "stream",
          "name": "stdout",
          "text": [
            "R2 SCORE : 0.44086171110501016\n",
            "COFICIENT : [  -8.76148626 -204.3134038   518.38060964  339.96792698 -787.70050902\n",
            "  475.28218248  106.79525197  114.62926652  819.74572421   52.87335061]\n",
            "INTERCEPT : 151.88534078043028\n"
          ]
        }
      ]
    },
    {
      "cell_type": "markdown",
      "source": [
        "# **RIDGE REGRESSION USING GRADIENT DESCENT CLASS**"
      ],
      "metadata": {
        "id": "TFJ0-DEOkFOU"
      }
    },
    {
      "cell_type": "code",
      "source": [
        "class MYRIDGEGD:\n",
        "     def __init__(self,alpha,epochs,learning_rate):\n",
        "         self.alpha=alpha\n",
        "         self.epochs=epochs\n",
        "         self.learning_rate=learning_rate\n",
        "         self.coef_=None\n",
        "         self.intercept_=None\n",
        "\n",
        "     def fit(self,x_train,y_train):\n",
        "         self.coef_=np.ones(x_train.shape[1])\n",
        "         self.intercept_=0\n",
        "         thetha=np.insert(self.coef_,0,self.intercept_)\n",
        "         x_train=np.insert(x_train,0,1,axis=1)\n",
        "\n",
        "         for i in range(self.epochs):\n",
        "             thetha_der = np.dot(x_train.T,x_train).dot(thetha) - np.dot(x_train.T,y_train) + self.alpha*thetha\n",
        "             thetha = thetha - self.learning_rate*thetha_der\n",
        "\n",
        "         self.coef_=thetha[1:]\n",
        "         self.intercept_=thetha[0]\n",
        "         print(self.intercept_)\n",
        "\n",
        "\n",
        "     def predict(self,x_test):\n",
        "         return np.dot(x_test,self.coef_)+self.intercept_"
      ],
      "metadata": {
        "id": "iWLmoiYakFbm"
      },
      "execution_count": null,
      "outputs": []
    },
    {
      "cell_type": "code",
      "source": [
        "rgd=MYRIDGEGD(alpha=0.001,epochs=500,learning_rate=0.005)\n",
        "rgd.fit(x_train,y_train)\n",
        "y_pred=rgd.predict(x_test)\n",
        "print('R2 SCORE :',r2_score(y_test,y_pred))\n",
        "print('COFICIENT :',rgd.coef_)\n",
        "print('INTERCEPT :',rgd.intercept_)\n"
      ],
      "metadata": {
        "colab": {
          "base_uri": "https://localhost:8080/"
        },
        "id": "En7vLU1QmCBU",
        "outputId": "190925cf-a268-4683-ab17-cd7186c897a4"
      },
      "execution_count": null,
      "outputs": [
        {
          "output_type": "stream",
          "name": "stdout",
          "text": [
            "152.03121813717044\n",
            "R2 SCORE : 0.45395431712097367\n",
            "COFICIENT : [  19.50919039 -162.92602513  478.95477998  317.86376108  -34.07709121\n",
            " -108.63608801 -193.66871805  106.94769192  437.10746813  103.57606041]\n",
            "INTERCEPT : 152.03121813717044\n"
          ]
        }
      ]
    }
  ]
}