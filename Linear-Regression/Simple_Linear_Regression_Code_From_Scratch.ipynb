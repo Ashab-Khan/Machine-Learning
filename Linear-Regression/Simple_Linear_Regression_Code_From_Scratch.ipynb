{
  "nbformat": 4,
  "nbformat_minor": 0,
  "metadata": {
    "colab": {
      "provenance": []
    },
    "kernelspec": {
      "name": "python3",
      "display_name": "Python 3"
    },
    "language_info": {
      "name": "python"
    }
  },
  "cells": [
    {
      "cell_type": "code",
      "execution_count": 1,
      "metadata": {
        "colab": {
          "base_uri": "https://localhost:8080/"
        },
        "id": "4VOxW51Unl4s",
        "outputId": "4a288218-92fd-4dd1-c4d0-a1290c33dd55"
      },
      "outputs": [
        {
          "output_type": "stream",
          "name": "stdout",
          "text": [
            "placement.csv file created successfully!\n"
          ]
        }
      ],
      "source": [
        "import pandas as pd\n",
        "import numpy as np\n",
        "np.random.seed(42)\n",
        "cgpa = np.round(np.random.uniform(5.0, 10.0, 200), 2)\n",
        "package = np.round(2 * cgpa + np.random.normal(0, 1, 200), 2)\n",
        "data = pd.DataFrame({\n",
        "    'CGPA': cgpa,\n",
        "    'Package(LPA)': package\n",
        "})\n",
        "data.to_csv('placement.csv', index=False)\n",
        "print(\"placement.csv file created successfully!\")"
      ]
    },
    {
      "cell_type": "code",
      "source": [
        "class MyLR():\n",
        "  def __init__(self):\n",
        "    self.m=None\n",
        "    self.b=None\n",
        "\n",
        "  def fit(self,x_train,y_train):\n",
        "    num=0\n",
        "    den=0\n",
        "    for i in range(x_train.shape[0]):\n",
        "      num=num + (x_train[i]-x_train.mean()) * (y_train[i]-y_train.mean())\n",
        "      den=den + (x_train[i]-x_train.mean()) * (x_train[i]-x_train.mean())\n",
        "\n",
        "\n",
        "    self.m=num/den\n",
        "    self.b=(y_train.mean())-(self.m*x_train.mean())\n",
        "    print(self.m)\n",
        "    print(self.b)\n",
        "\n",
        "  def pred(self,x_test):\n",
        "    return self.m * x_test + self.b\n",
        "\n"
      ],
      "metadata": {
        "id": "UV_ISl6anpyc"
      },
      "execution_count": 2,
      "outputs": []
    },
    {
      "cell_type": "code",
      "source": [
        "d=pd.read_csv('placement.csv')\n",
        "X=d.iloc[:,0:1].values\n",
        "Y=d.iloc[:,-1].values"
      ],
      "metadata": {
        "id": "1UaB-DFmoGti"
      },
      "execution_count": 3,
      "outputs": []
    },
    {
      "cell_type": "code",
      "source": [
        "from sklearn.model_selection import train_test_split\n",
        "x_train,x_test,y_train,y_test=train_test_split(X,Y,test_size=0.2,random_state=4)"
      ],
      "metadata": {
        "id": "DWBO8QgSopgj"
      },
      "execution_count": 4,
      "outputs": []
    },
    {
      "cell_type": "code",
      "source": [
        "x_train.shape"
      ],
      "metadata": {
        "colab": {
          "base_uri": "https://localhost:8080/"
        },
        "id": "K-y6lWCMpK4w",
        "outputId": "f15c3b52-2d92-498c-ac32-c77fe7d2d546"
      },
      "execution_count": 5,
      "outputs": [
        {
          "output_type": "execute_result",
          "data": {
            "text/plain": [
              "(160, 1)"
            ]
          },
          "metadata": {},
          "execution_count": 5
        }
      ]
    },
    {
      "cell_type": "code",
      "source": [
        "lr=MyLR()\n",
        "lr.fit(x_train,y_train)"
      ],
      "metadata": {
        "colab": {
          "base_uri": "https://localhost:8080/"
        },
        "id": "1KEeG6qipCH0",
        "outputId": "e001d6a9-a964-4932-aac8-36d9190d7223"
      },
      "execution_count": 6,
      "outputs": [
        {
          "output_type": "stream",
          "name": "stdout",
          "text": [
            "[1.9983794]\n",
            "[0.11565433]\n"
          ]
        }
      ]
    },
    {
      "cell_type": "code",
      "source": [
        "lr.pred(9.47)"
      ],
      "metadata": {
        "colab": {
          "base_uri": "https://localhost:8080/"
        },
        "id": "ubDHv1dCqqU6",
        "outputId": "13b0b6c7-1a01-4cbf-e248-fff1b84dcca6"
      },
      "execution_count": 7,
      "outputs": [
        {
          "output_type": "execute_result",
          "data": {
            "text/plain": [
              "array([19.04030721])"
            ]
          },
          "metadata": {},
          "execution_count": 7
        }
      ]
    }
  ]
}