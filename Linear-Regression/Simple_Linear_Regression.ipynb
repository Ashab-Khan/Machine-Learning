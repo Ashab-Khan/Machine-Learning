{
  "nbformat": 4,
  "nbformat_minor": 0,
  "metadata": {
    "colab": {
      "provenance": []
    },
    "kernelspec": {
      "name": "python3",
      "display_name": "Python 3"
    },
    "language_info": {
      "name": "python"
    }
  },
  "cells": [
    {
      "cell_type": "code",
      "execution_count": null,
      "metadata": {
        "colab": {
          "base_uri": "https://localhost:8080/"
        },
        "id": "2YliErs0Ig_2",
        "outputId": "a897d731-1ee4-4bd6-e360-875dc11aa2be"
      },
      "outputs": [
        {
          "output_type": "stream",
          "name": "stdout",
          "text": [
            "placement.csv file created successfully!\n"
          ]
        }
      ],
      "source": [
        "import pandas as pd\n",
        "import numpy as np\n",
        "np.random.seed(42)\n",
        "cgpa = np.round(np.random.uniform(5.0, 10.0, 200), 2)\n",
        "package = np.round(2 * cgpa + np.random.normal(0, 1, 200), 2)\n",
        "data = pd.DataFrame({\n",
        "    'CGPA': cgpa,\n",
        "    'Package(LPA)': package\n",
        "})\n",
        "data.to_csv('placement.csv', index=False)\n",
        "print(\"placement.csv file created successfully!\")"
      ]
    },
    {
      "cell_type": "code",
      "source": [
        "d=pd.read_csv('placement.csv')"
      ],
      "metadata": {
        "id": "er3V_8OBI9e9"
      },
      "execution_count": null,
      "outputs": []
    },
    {
      "cell_type": "code",
      "source": [
        "d.head()"
      ],
      "metadata": {
        "colab": {
          "base_uri": "https://localhost:8080/",
          "height": 206
        },
        "id": "7ESwmrLiJFwL",
        "outputId": "887e05fb-e374-4e6b-e638-b23f7fbc2028"
      },
      "execution_count": null,
      "outputs": [
        {
          "output_type": "execute_result",
          "data": {
            "text/plain": [
              "   CGPA  Package(LPA)\n",
              "0  6.87         13.06\n",
              "1  9.75         19.73\n",
              "2  8.66         17.61\n",
              "3  7.99         15.27\n",
              "4  5.78         13.43"
            ],
            "text/html": [
              "\n",
              "  <div id=\"df-dca29459-68d9-49d5-ad14-2ec1bd009912\" class=\"colab-df-container\">\n",
              "    <div>\n",
              "<style scoped>\n",
              "    .dataframe tbody tr th:only-of-type {\n",
              "        vertical-align: middle;\n",
              "    }\n",
              "\n",
              "    .dataframe tbody tr th {\n",
              "        vertical-align: top;\n",
              "    }\n",
              "\n",
              "    .dataframe thead th {\n",
              "        text-align: right;\n",
              "    }\n",
              "</style>\n",
              "<table border=\"1\" class=\"dataframe\">\n",
              "  <thead>\n",
              "    <tr style=\"text-align: right;\">\n",
              "      <th></th>\n",
              "      <th>CGPA</th>\n",
              "      <th>Package(LPA)</th>\n",
              "    </tr>\n",
              "  </thead>\n",
              "  <tbody>\n",
              "    <tr>\n",
              "      <th>0</th>\n",
              "      <td>6.87</td>\n",
              "      <td>13.06</td>\n",
              "    </tr>\n",
              "    <tr>\n",
              "      <th>1</th>\n",
              "      <td>9.75</td>\n",
              "      <td>19.73</td>\n",
              "    </tr>\n",
              "    <tr>\n",
              "      <th>2</th>\n",
              "      <td>8.66</td>\n",
              "      <td>17.61</td>\n",
              "    </tr>\n",
              "    <tr>\n",
              "      <th>3</th>\n",
              "      <td>7.99</td>\n",
              "      <td>15.27</td>\n",
              "    </tr>\n",
              "    <tr>\n",
              "      <th>4</th>\n",
              "      <td>5.78</td>\n",
              "      <td>13.43</td>\n",
              "    </tr>\n",
              "  </tbody>\n",
              "</table>\n",
              "</div>\n",
              "    <div class=\"colab-df-buttons\">\n",
              "\n",
              "  <div class=\"colab-df-container\">\n",
              "    <button class=\"colab-df-convert\" onclick=\"convertToInteractive('df-dca29459-68d9-49d5-ad14-2ec1bd009912')\"\n",
              "            title=\"Convert this dataframe to an interactive table.\"\n",
              "            style=\"display:none;\">\n",
              "\n",
              "  <svg xmlns=\"http://www.w3.org/2000/svg\" height=\"24px\" viewBox=\"0 -960 960 960\">\n",
              "    <path d=\"M120-120v-720h720v720H120Zm60-500h600v-160H180v160Zm220 220h160v-160H400v160Zm0 220h160v-160H400v160ZM180-400h160v-160H180v160Zm440 0h160v-160H620v160ZM180-180h160v-160H180v160Zm440 0h160v-160H620v160Z\"/>\n",
              "  </svg>\n",
              "    </button>\n",
              "\n",
              "  <style>\n",
              "    .colab-df-container {\n",
              "      display:flex;\n",
              "      gap: 12px;\n",
              "    }\n",
              "\n",
              "    .colab-df-convert {\n",
              "      background-color: #E8F0FE;\n",
              "      border: none;\n",
              "      border-radius: 50%;\n",
              "      cursor: pointer;\n",
              "      display: none;\n",
              "      fill: #1967D2;\n",
              "      height: 32px;\n",
              "      padding: 0 0 0 0;\n",
              "      width: 32px;\n",
              "    }\n",
              "\n",
              "    .colab-df-convert:hover {\n",
              "      background-color: #E2EBFA;\n",
              "      box-shadow: 0px 1px 2px rgba(60, 64, 67, 0.3), 0px 1px 3px 1px rgba(60, 64, 67, 0.15);\n",
              "      fill: #174EA6;\n",
              "    }\n",
              "\n",
              "    .colab-df-buttons div {\n",
              "      margin-bottom: 4px;\n",
              "    }\n",
              "\n",
              "    [theme=dark] .colab-df-convert {\n",
              "      background-color: #3B4455;\n",
              "      fill: #D2E3FC;\n",
              "    }\n",
              "\n",
              "    [theme=dark] .colab-df-convert:hover {\n",
              "      background-color: #434B5C;\n",
              "      box-shadow: 0px 1px 3px 1px rgba(0, 0, 0, 0.15);\n",
              "      filter: drop-shadow(0px 1px 2px rgba(0, 0, 0, 0.3));\n",
              "      fill: #FFFFFF;\n",
              "    }\n",
              "  </style>\n",
              "\n",
              "    <script>\n",
              "      const buttonEl =\n",
              "        document.querySelector('#df-dca29459-68d9-49d5-ad14-2ec1bd009912 button.colab-df-convert');\n",
              "      buttonEl.style.display =\n",
              "        google.colab.kernel.accessAllowed ? 'block' : 'none';\n",
              "\n",
              "      async function convertToInteractive(key) {\n",
              "        const element = document.querySelector('#df-dca29459-68d9-49d5-ad14-2ec1bd009912');\n",
              "        const dataTable =\n",
              "          await google.colab.kernel.invokeFunction('convertToInteractive',\n",
              "                                                    [key], {});\n",
              "        if (!dataTable) return;\n",
              "\n",
              "        const docLinkHtml = 'Like what you see? Visit the ' +\n",
              "          '<a target=\"_blank\" href=https://colab.research.google.com/notebooks/data_table.ipynb>data table notebook</a>'\n",
              "          + ' to learn more about interactive tables.';\n",
              "        element.innerHTML = '';\n",
              "        dataTable['output_type'] = 'display_data';\n",
              "        await google.colab.output.renderOutput(dataTable, element);\n",
              "        const docLink = document.createElement('div');\n",
              "        docLink.innerHTML = docLinkHtml;\n",
              "        element.appendChild(docLink);\n",
              "      }\n",
              "    </script>\n",
              "  </div>\n",
              "\n",
              "\n",
              "<div id=\"df-061f18cb-a164-4961-bdbc-725da8db38ea\">\n",
              "  <button class=\"colab-df-quickchart\" onclick=\"quickchart('df-061f18cb-a164-4961-bdbc-725da8db38ea')\"\n",
              "            title=\"Suggest charts\"\n",
              "            style=\"display:none;\">\n",
              "\n",
              "<svg xmlns=\"http://www.w3.org/2000/svg\" height=\"24px\"viewBox=\"0 0 24 24\"\n",
              "     width=\"24px\">\n",
              "    <g>\n",
              "        <path d=\"M19 3H5c-1.1 0-2 .9-2 2v14c0 1.1.9 2 2 2h14c1.1 0 2-.9 2-2V5c0-1.1-.9-2-2-2zM9 17H7v-7h2v7zm4 0h-2V7h2v10zm4 0h-2v-4h2v4z\"/>\n",
              "    </g>\n",
              "</svg>\n",
              "  </button>\n",
              "\n",
              "<style>\n",
              "  .colab-df-quickchart {\n",
              "      --bg-color: #E8F0FE;\n",
              "      --fill-color: #1967D2;\n",
              "      --hover-bg-color: #E2EBFA;\n",
              "      --hover-fill-color: #174EA6;\n",
              "      --disabled-fill-color: #AAA;\n",
              "      --disabled-bg-color: #DDD;\n",
              "  }\n",
              "\n",
              "  [theme=dark] .colab-df-quickchart {\n",
              "      --bg-color: #3B4455;\n",
              "      --fill-color: #D2E3FC;\n",
              "      --hover-bg-color: #434B5C;\n",
              "      --hover-fill-color: #FFFFFF;\n",
              "      --disabled-bg-color: #3B4455;\n",
              "      --disabled-fill-color: #666;\n",
              "  }\n",
              "\n",
              "  .colab-df-quickchart {\n",
              "    background-color: var(--bg-color);\n",
              "    border: none;\n",
              "    border-radius: 50%;\n",
              "    cursor: pointer;\n",
              "    display: none;\n",
              "    fill: var(--fill-color);\n",
              "    height: 32px;\n",
              "    padding: 0;\n",
              "    width: 32px;\n",
              "  }\n",
              "\n",
              "  .colab-df-quickchart:hover {\n",
              "    background-color: var(--hover-bg-color);\n",
              "    box-shadow: 0 1px 2px rgba(60, 64, 67, 0.3), 0 1px 3px 1px rgba(60, 64, 67, 0.15);\n",
              "    fill: var(--button-hover-fill-color);\n",
              "  }\n",
              "\n",
              "  .colab-df-quickchart-complete:disabled,\n",
              "  .colab-df-quickchart-complete:disabled:hover {\n",
              "    background-color: var(--disabled-bg-color);\n",
              "    fill: var(--disabled-fill-color);\n",
              "    box-shadow: none;\n",
              "  }\n",
              "\n",
              "  .colab-df-spinner {\n",
              "    border: 2px solid var(--fill-color);\n",
              "    border-color: transparent;\n",
              "    border-bottom-color: var(--fill-color);\n",
              "    animation:\n",
              "      spin 1s steps(1) infinite;\n",
              "  }\n",
              "\n",
              "  @keyframes spin {\n",
              "    0% {\n",
              "      border-color: transparent;\n",
              "      border-bottom-color: var(--fill-color);\n",
              "      border-left-color: var(--fill-color);\n",
              "    }\n",
              "    20% {\n",
              "      border-color: transparent;\n",
              "      border-left-color: var(--fill-color);\n",
              "      border-top-color: var(--fill-color);\n",
              "    }\n",
              "    30% {\n",
              "      border-color: transparent;\n",
              "      border-left-color: var(--fill-color);\n",
              "      border-top-color: var(--fill-color);\n",
              "      border-right-color: var(--fill-color);\n",
              "    }\n",
              "    40% {\n",
              "      border-color: transparent;\n",
              "      border-right-color: var(--fill-color);\n",
              "      border-top-color: var(--fill-color);\n",
              "    }\n",
              "    60% {\n",
              "      border-color: transparent;\n",
              "      border-right-color: var(--fill-color);\n",
              "    }\n",
              "    80% {\n",
              "      border-color: transparent;\n",
              "      border-right-color: var(--fill-color);\n",
              "      border-bottom-color: var(--fill-color);\n",
              "    }\n",
              "    90% {\n",
              "      border-color: transparent;\n",
              "      border-bottom-color: var(--fill-color);\n",
              "    }\n",
              "  }\n",
              "</style>\n",
              "\n",
              "  <script>\n",
              "    async function quickchart(key) {\n",
              "      const quickchartButtonEl =\n",
              "        document.querySelector('#' + key + ' button');\n",
              "      quickchartButtonEl.disabled = true;  // To prevent multiple clicks.\n",
              "      quickchartButtonEl.classList.add('colab-df-spinner');\n",
              "      try {\n",
              "        const charts = await google.colab.kernel.invokeFunction(\n",
              "            'suggestCharts', [key], {});\n",
              "      } catch (error) {\n",
              "        console.error('Error during call to suggestCharts:', error);\n",
              "      }\n",
              "      quickchartButtonEl.classList.remove('colab-df-spinner');\n",
              "      quickchartButtonEl.classList.add('colab-df-quickchart-complete');\n",
              "    }\n",
              "    (() => {\n",
              "      let quickchartButtonEl =\n",
              "        document.querySelector('#df-061f18cb-a164-4961-bdbc-725da8db38ea button');\n",
              "      quickchartButtonEl.style.display =\n",
              "        google.colab.kernel.accessAllowed ? 'block' : 'none';\n",
              "    })();\n",
              "  </script>\n",
              "</div>\n",
              "\n",
              "    </div>\n",
              "  </div>\n"
            ],
            "application/vnd.google.colaboratory.intrinsic+json": {
              "type": "dataframe",
              "variable_name": "d",
              "summary": "{\n  \"name\": \"d\",\n  \"rows\": 200,\n  \"fields\": [\n    {\n      \"column\": \"CGPA\",\n      \"properties\": {\n        \"dtype\": \"number\",\n        \"std\": 1.4747238894963541,\n        \"min\": 5.03,\n        \"max\": 9.93,\n        \"num_unique_values\": 172,\n        \"samples\": [\n          9.44,\n          6.19,\n          8.23\n        ],\n        \"semantic_type\": \"\",\n        \"description\": \"\"\n      }\n    },\n    {\n      \"column\": \"Package(LPA)\",\n      \"properties\": {\n        \"dtype\": \"number\",\n        \"std\": 3.08265809035158,\n        \"min\": 9.0,\n        \"max\": 21.14,\n        \"num_unique_values\": 183,\n        \"samples\": [\n          16.04,\n          16.77,\n          10.5\n        ],\n        \"semantic_type\": \"\",\n        \"description\": \"\"\n      }\n    }\n  ]\n}"
            }
          },
          "metadata": {},
          "execution_count": 4
        }
      ]
    },
    {
      "cell_type": "code",
      "source": [
        "import matplotlib.pyplot as plt"
      ],
      "metadata": {
        "id": "MUoLCBQnJe-O"
      },
      "execution_count": null,
      "outputs": []
    },
    {
      "cell_type": "code",
      "source": [
        "plt.scatter(d['CGPA'],d['Package(LPA)'])\n",
        "plt.xlabel('CGPA')\n",
        "plt.ylabel('Package(LPA)')\n",
        "plt.show()"
      ],
      "metadata": {
        "colab": {
          "base_uri": "https://localhost:8080/",
          "height": 449
        },
        "id": "Cpkgkzy7JnHj",
        "outputId": "7cf6c2cd-8068-464c-e321-4505bb6c1bdb"
      },
      "execution_count": null,
      "outputs": [
        {
          "output_type": "display_data",
          "data": {
            "text/plain": [
              "<Figure size 640x480 with 1 Axes>"
            ],
            "image/png": "[encoded data removed]"
          },
          "metadata": {}
        }
      ]
    },
    {
      "cell_type": "code",
      "source": [
        "X=d.iloc[:,0:1].values"
      ],
      "metadata": {
        "id": "kjoSOwH8JHqN"
      },
      "execution_count": null,
      "outputs": []
    },
    {
      "cell_type": "code",
      "source": [
        "X"
      ],
      "metadata": {
        "colab": {
          "base_uri": "https://localhost:8080/"
        },
        "id": "3--AMbe9JU6a",
        "outputId": "3beb1051-3a99-4f2b-d0d2-449fdc01d248"
      },
      "execution_count": null,
      "outputs": [
        {
          "output_type": "execute_result",
          "data": {
            "text/plain": [
              "array([[6.87],\n",
              "       [9.75],\n",
              "       [8.66],\n",
              "       [7.99],\n",
              "       [5.78],\n",
              "       [5.78],\n",
              "       [5.29],\n",
              "       [9.33],\n",
              "       [8.01],\n",
              "       [8.54],\n",
              "       [5.1 ],\n",
              "       [9.85],\n",
              "       [9.16],\n",
              "       [6.06],\n",
              "       [5.91],\n",
              "       [5.92],\n",
              "       [6.52],\n",
              "       [7.62],\n",
              "       [7.16],\n",
              "       [6.46],\n",
              "       [8.06],\n",
              "       [5.7 ],\n",
              "       [6.46],\n",
              "       [6.83],\n",
              "       [7.28],\n",
              "       [8.93],\n",
              "       [6.  ],\n",
              "       [7.57],\n",
              "       [7.96],\n",
              "       [5.23],\n",
              "       [8.04],\n",
              "       [5.85],\n",
              "       [5.33],\n",
              "       [9.74],\n",
              "       [9.83],\n",
              "       [9.04],\n",
              "       [6.52],\n",
              "       [5.49],\n",
              "       [8.42],\n",
              "       [7.2 ],\n",
              "       [5.61],\n",
              "       [7.48],\n",
              "       [5.17],\n",
              "       [9.55],\n",
              "       [6.29],\n",
              "       [8.31],\n",
              "       [6.56],\n",
              "       [7.6 ],\n",
              "       [7.73],\n",
              "       [5.92],\n",
              "       [9.85],\n",
              "       [8.88],\n",
              "       [9.7 ],\n",
              "       [9.47],\n",
              "       [7.99],\n",
              "       [9.61],\n",
              "       [5.44],\n",
              "       [5.98],\n",
              "       [5.23],\n",
              "       [6.63],\n",
              "       [6.94],\n",
              "       [6.36],\n",
              "       [9.14],\n",
              "       [6.78],\n",
              "       [6.4 ],\n",
              "       [7.71],\n",
              "       [5.7 ],\n",
              "       [9.01],\n",
              "       [5.37],\n",
              "       [9.93],\n",
              "       [8.86],\n",
              "       [5.99],\n",
              "       [5.03],\n",
              "       [9.08],\n",
              "       [8.53],\n",
              "       [8.65],\n",
              "       [8.86],\n",
              "       [5.37],\n",
              "       [6.79],\n",
              "       [5.58],\n",
              "       [9.32],\n",
              "       [8.12],\n",
              "       [6.65],\n",
              "       [5.32],\n",
              "       [6.55],\n",
              "       [6.63],\n",
              "       [8.65],\n",
              "       [8.19],\n",
              "       [9.44],\n",
              "       [7.36],\n",
              "       [5.6 ],\n",
              "       [8.57],\n",
              "       [8.8 ],\n",
              "       [7.81],\n",
              "       [8.85],\n",
              "       [7.47],\n",
              "       [7.61],\n",
              "       [7.14],\n",
              "       [5.13],\n",
              "       [5.54],\n",
              "       [5.16],\n",
              "       [8.18],\n",
              "       [6.57],\n",
              "       [7.54],\n",
              "       [9.54],\n",
              "       [6.25],\n",
              "       [7.05],\n",
              "       [8.78],\n",
              "       [6.14],\n",
              "       [5.38],\n",
              "       [6.45],\n",
              "       [5.81],\n",
              "       [9.65],\n",
              "       [9.04],\n",
              "       [8.17],\n",
              "       [9.36],\n",
              "       [9.02],\n",
              "       [5.93],\n",
              "       [9.46],\n",
              "       [7.7 ],\n",
              "       [9.04],\n",
              "       [9.48],\n",
              "       [6.59],\n",
              "       [5.55],\n",
              "       [6.14],\n",
              "       [7.14],\n",
              "       [9.09],\n",
              "       [9.3 ],\n",
              "       [5.03],\n",
              "       [7.55],\n",
              "       [7.09],\n",
              "       [6.11],\n",
              "       [5.6 ],\n",
              "       [6.69],\n",
              "       [9.71],\n",
              "       [6.62],\n",
              "       [7.59],\n",
              "       [8.52],\n",
              "       [6.82],\n",
              "       [9.86],\n",
              "       [9.81],\n",
              "       [6.26],\n",
              "       [7.49],\n",
              "       [6.5 ],\n",
              "       [6.42],\n",
              "       [5.18],\n",
              "       [8.05],\n",
              "       [7.51],\n",
              "       [5.26],\n",
              "       [6.39],\n",
              "       [9.54],\n",
              "       [6.2 ],\n",
              "       [5.72],\n",
              "       [7.45],\n",
              "       [9.93],\n",
              "       [6.21],\n",
              "       [8.36],\n",
              "       [8.81],\n",
              "       [6.19],\n",
              "       [8.64],\n",
              "       [6.84],\n",
              "       [8.16],\n",
              "       [8.17],\n",
              "       [7.68],\n",
              "       [5.45],\n",
              "       [9.18],\n",
              "       [6.6 ],\n",
              "       [5.93],\n",
              "       [5.2 ],\n",
              "       [7.95],\n",
              "       [8.39],\n",
              "       [5.08],\n",
              "       [7.56],\n",
              "       [6.13],\n",
              "       [8.23],\n",
              "       [5.87],\n",
              "       [8.45],\n",
              "       [6.93],\n",
              "       [9.68],\n",
              "       [5.69],\n",
              "       [6.71],\n",
              "       [5.57],\n",
              "       [9.62],\n",
              "       [9.39],\n",
              "       [6.29],\n",
              "       [8.3 ],\n",
              "       [9.09],\n",
              "       [7.78],\n",
              "       [7.65],\n",
              "       [6.21],\n",
              "       [5.47],\n",
              "       [9.49],\n",
              "       [9.5 ],\n",
              "       [8.17],\n",
              "       [6.7 ],\n",
              "       [6.75],\n",
              "       [8.63],\n",
              "       [9.49],\n",
              "       [9.44],\n",
              "       [8.9 ]])"
            ]
          },
          "metadata": {},
          "execution_count": 27
        }
      ]
    },
    {
      "cell_type": "code",
      "source": [
        "Y=d.iloc[:,-1].values"
      ],
      "metadata": {
        "id": "PWXV_pxRJWBw"
      },
      "execution_count": null,
      "outputs": []
    },
    {
      "cell_type": "code",
      "source": [
        "Y"
      ],
      "metadata": {
        "colab": {
          "base_uri": "https://localhost:8080/"
        },
        "id": "NXC1jr0tJaZz",
        "outputId": "9c4b6665-7d59-48d9-fbed-3df1694eec5d"
      },
      "execution_count": null,
      "outputs": [
        {
          "output_type": "execute_result",
          "data": {
            "text/plain": [
              "array([13.06, 19.73, 17.61, 15.27, 13.43, 12.03,  9.39, 19.32, 15.05,\n",
              "       17.87, 11.36, 18.88, 19.28, 12.53, 12.64, 13.74, 12.79, 14.49,\n",
              "       13.43, 12.1 , 16.04, 11.74, 13.2 , 14.49, 14.57, 19.31, 11.74,\n",
              "       17.86, 16.55,  9.6 , 15.01, 12.18, 10.44, 20.19, 20.13, 18.01,\n",
              "       12.19,  9.47, 16.39, 15.26, 11.43, 13.71, 10.51, 19.49, 11.7 ,\n",
              "       16.77, 13.18, 14.06, 15.82, 12.4 , 20.78, 18.81, 18.02, 18.  ,\n",
              "       16.5 , 19.73, 11.4 , 15.81, 11.03, 14.4 , 14.83, 13.37, 17.96,\n",
              "       14.32, 12.03, 15.18, 10.91, 18.1 , 13.05, 17.99, 18.41, 10.37,\n",
              "        9.59, 19.25, 17.12, 16.22, 17.  , 11.42, 12.85, 11.38, 18.69,\n",
              "       15.59, 15.44, 11.27, 11.07, 13.45, 16.64, 17.23, 18.09, 14.61,\n",
              "       11.7 , 18.01, 16.4 , 15.29, 17.23, 14.29, 16.99, 14.68,  9.  ,\n",
              "       12.  , 12.44, 17.39, 11.62, 14.6 , 20.35, 11.79, 14.54, 18.33,\n",
              "       11.35, 10.7 ,  9.66, 10.6 , 19.05, 16.83, 17.97, 17.29, 17.6 ,\n",
              "       11.99, 20.36, 13.96, 19.24, 18.97, 12.2 , 11.56, 12.48, 13.68,\n",
              "       18.25, 18.21, 10.17, 15.76, 15.77, 10.98, 13.33, 11.43, 19.27,\n",
              "       13.83, 15.46, 16.42, 13.43, 19.23, 19.03, 13.37, 15.34, 12.31,\n",
              "       13.74, 10.67, 16.91, 15.65,  9.69, 12.22, 19.83, 13.01, 11.42,\n",
              "       15.02, 21.14, 11.83, 17.27, 17.42, 12.16, 18.38, 14.51, 17.13,\n",
              "       17.65, 15.38, 11.58, 18.05, 13.52, 11.73, 10.5 , 16.5 , 15.96,\n",
              "       12.25, 14.11, 11.05, 17.62, 12.53, 17.52, 14.49, 19.35, 10.48,\n",
              "       13.5 , 10.46, 20.22, 18.63, 11.75, 16.28, 18.59, 15.  , 14.48,\n",
              "       12.66, 11.18, 18.47, 18.53, 16.57, 11.95, 12.09, 16.54, 18.77,\n",
              "       19.19, 19.28])"
            ]
          },
          "metadata": {},
          "execution_count": 29
        }
      ]
    },
    {
      "cell_type": "code",
      "source": [
        "from sklearn.model_selection import train_test_split"
      ],
      "metadata": {
        "id": "v2nSVH35KOKd"
      },
      "execution_count": null,
      "outputs": []
    },
    {
      "cell_type": "code",
      "source": [
        "x_train,x_test,y_train,y_test=train_test_split(X,Y,test_size=0.2,random_state=2)"
      ],
      "metadata": {
        "id": "SQY9B0SFKZpx"
      },
      "execution_count": null,
      "outputs": []
    },
    {
      "cell_type": "code",
      "source": [
        "x_train"
      ],
      "metadata": {
        "colab": {
          "base_uri": "https://localhost:8080/"
        },
        "id": "-0-nmkqvLlQx",
        "outputId": "ee5ff71d-ffbd-4119-d957-5e30e370dbf7"
      },
      "execution_count": null,
      "outputs": [
        {
          "output_type": "execute_result",
          "data": {
            "text/plain": [
              "array([[8.52],\n",
              "       [7.68],\n",
              "       [5.81],\n",
              "       [5.55],\n",
              "       [5.38],\n",
              "       [6.26],\n",
              "       [7.48],\n",
              "       [7.09],\n",
              "       [9.81],\n",
              "       [5.78],\n",
              "       [8.64],\n",
              "       [5.16],\n",
              "       [9.85],\n",
              "       [7.78],\n",
              "       [7.28],\n",
              "       [7.36],\n",
              "       [5.7 ],\n",
              "       [8.01],\n",
              "       [7.56],\n",
              "       [5.87],\n",
              "       [7.96],\n",
              "       [6.69],\n",
              "       [8.85],\n",
              "       [5.17],\n",
              "       [7.95],\n",
              "       [6.65],\n",
              "       [6.29],\n",
              "       [7.05],\n",
              "       [6.14],\n",
              "       [6.5 ],\n",
              "       [6.71],\n",
              "       [6.6 ],\n",
              "       [8.05],\n",
              "       [5.58],\n",
              "       [9.75],\n",
              "       [7.7 ],\n",
              "       [9.5 ],\n",
              "       [6.39],\n",
              "       [6.84],\n",
              "       [7.65],\n",
              "       [7.51],\n",
              "       [6.52],\n",
              "       [5.08],\n",
              "       [5.69],\n",
              "       [9.14],\n",
              "       [6.87],\n",
              "       [7.57],\n",
              "       [8.81],\n",
              "       [5.13],\n",
              "       [9.46],\n",
              "       [8.06],\n",
              "       [6.19],\n",
              "       [8.36],\n",
              "       [7.49],\n",
              "       [5.37],\n",
              "       [8.04],\n",
              "       [9.93],\n",
              "       [7.62],\n",
              "       [6.63],\n",
              "       [5.57],\n",
              "       [8.17],\n",
              "       [9.3 ],\n",
              "       [9.86],\n",
              "       [9.49],\n",
              "       [7.81],\n",
              "       [6.2 ],\n",
              "       [5.7 ],\n",
              "       [9.61],\n",
              "       [6.52],\n",
              "       [5.72],\n",
              "       [8.57],\n",
              "       [5.54],\n",
              "       [9.04],\n",
              "       [9.49],\n",
              "       [8.53],\n",
              "       [5.47],\n",
              "       [8.16],\n",
              "       [6.42],\n",
              "       [8.63],\n",
              "       [8.19],\n",
              "       [5.6 ],\n",
              "       [6.55],\n",
              "       [7.16],\n",
              "       [7.14],\n",
              "       [8.18],\n",
              "       [7.14],\n",
              "       [5.45],\n",
              "       [6.62],\n",
              "       [6.36],\n",
              "       [8.12],\n",
              "       [5.37],\n",
              "       [7.55],\n",
              "       [5.44],\n",
              "       [6.46],\n",
              "       [8.65],\n",
              "       [8.86],\n",
              "       [6.94],\n",
              "       [9.83],\n",
              "       [5.61],\n",
              "       [6.82],\n",
              "       [8.86],\n",
              "       [7.45],\n",
              "       [6.  ],\n",
              "       [5.33],\n",
              "       [6.75],\n",
              "       [7.61],\n",
              "       [5.32],\n",
              "       [6.45],\n",
              "       [6.25],\n",
              "       [9.08],\n",
              "       [5.93],\n",
              "       [9.54],\n",
              "       [5.18],\n",
              "       [6.21],\n",
              "       [9.44],\n",
              "       [7.59],\n",
              "       [7.2 ],\n",
              "       [5.92],\n",
              "       [9.09],\n",
              "       [5.6 ],\n",
              "       [9.85],\n",
              "       [9.7 ],\n",
              "       [9.32],\n",
              "       [8.3 ],\n",
              "       [9.48],\n",
              "       [6.21],\n",
              "       [6.56],\n",
              "       [9.44],\n",
              "       [9.93],\n",
              "       [9.01],\n",
              "       [9.39],\n",
              "       [5.23],\n",
              "       [9.74],\n",
              "       [8.42],\n",
              "       [7.54],\n",
              "       [8.88],\n",
              "       [8.78],\n",
              "       [8.39],\n",
              "       [5.78],\n",
              "       [6.57],\n",
              "       [5.93],\n",
              "       [5.49],\n",
              "       [9.02],\n",
              "       [6.14],\n",
              "       [5.26],\n",
              "       [5.85],\n",
              "       [6.78],\n",
              "       [7.6 ],\n",
              "       [6.7 ],\n",
              "       [7.47],\n",
              "       [6.93],\n",
              "       [8.17],\n",
              "       [9.33],\n",
              "       [9.54],\n",
              "       [8.65],\n",
              "       [9.55],\n",
              "       [6.46],\n",
              "       [5.03],\n",
              "       [5.92],\n",
              "       [5.2 ]])"
            ]
          },
          "metadata": {},
          "execution_count": 33
        }
      ]
    },
    {
      "cell_type": "code",
      "source": [
        "y_train"
      ],
      "metadata": {
        "colab": {
          "base_uri": "https://localhost:8080/"
        },
        "id": "5lwudc_tLzw5",
        "outputId": "b7238e70-b640-466e-cb21-e0a2a790bfd8"
      },
      "execution_count": null,
      "outputs": [
        {
          "output_type": "execute_result",
          "data": {
            "text/plain": [
              "array([16.42, 15.38, 10.6 , 11.56, 10.7 , 13.37, 13.71, 15.77, 19.03,\n",
              "       12.03, 18.38, 12.44, 18.88, 15.  , 14.57, 14.61, 10.91, 15.05,\n",
              "       14.11, 12.53, 16.55, 11.43, 17.23, 10.51, 16.5 , 15.44, 11.75,\n",
              "       14.54, 11.35, 12.31, 13.5 , 13.52, 16.91, 11.38, 19.73, 13.96,\n",
              "       18.53, 12.22, 14.51, 14.48, 15.65, 12.19, 12.25, 10.48, 17.96,\n",
              "       13.06, 17.86, 17.42,  9.  , 20.36, 16.04, 12.16, 17.27, 15.34,\n",
              "       11.42, 15.01, 21.14, 14.49, 14.4 , 10.46, 17.97, 18.21, 19.23,\n",
              "       18.47, 15.29, 13.01, 11.74, 19.73, 12.79, 11.42, 18.01, 12.  ,\n",
              "       19.24, 18.77, 17.12, 11.18, 17.13, 13.74, 16.54, 17.23, 11.7 ,\n",
              "       11.07, 13.43, 14.68, 17.39, 13.68, 11.58, 13.83, 13.37, 15.59,\n",
              "       13.05, 15.76, 11.4 , 12.1 , 16.64, 18.41, 14.83, 20.13, 11.43,\n",
              "       13.43, 17.  , 15.02, 11.74, 10.44, 12.09, 16.99, 11.27,  9.66,\n",
              "       11.79, 19.25, 11.99, 19.83, 10.67, 11.83, 19.19, 15.46, 15.26,\n",
              "       12.4 , 18.59, 13.33, 20.78, 18.02, 18.69, 16.28, 18.97, 12.66,\n",
              "       13.18, 18.09, 17.99, 18.1 , 18.63, 11.03, 20.19, 16.39, 14.6 ,\n",
              "       18.81, 18.33, 15.96, 13.43, 11.62, 11.73,  9.47, 17.6 , 12.48,\n",
              "        9.69, 12.18, 14.32, 14.06, 11.95, 14.29, 14.49, 17.65, 19.32,\n",
              "       20.35, 16.22, 19.49, 13.2 ,  9.59, 13.74, 10.5 ])"
            ]
          },
          "metadata": {},
          "execution_count": 34
        }
      ]
    },
    {
      "cell_type": "code",
      "source": [
        "x_test"
      ],
      "metadata": {
        "colab": {
          "base_uri": "https://localhost:8080/"
        },
        "id": "yh5mM_Acs8Z7",
        "outputId": "a42d5424-be5c-41c6-fd70-8cf388657cb1"
      },
      "execution_count": null,
      "outputs": [
        {
          "output_type": "execute_result",
          "data": {
            "text/plain": [
              "array([[9.65],\n",
              "       [5.23],\n",
              "       [9.62],\n",
              "       [8.9 ],\n",
              "       [8.17],\n",
              "       [6.63],\n",
              "       [5.1 ],\n",
              "       [7.99],\n",
              "       [9.36],\n",
              "       [9.04],\n",
              "       [9.16],\n",
              "       [8.8 ],\n",
              "       [6.06],\n",
              "       [9.09],\n",
              "       [8.23],\n",
              "       [8.66],\n",
              "       [6.29],\n",
              "       [7.99],\n",
              "       [9.04],\n",
              "       [5.91],\n",
              "       [6.83],\n",
              "       [8.93],\n",
              "       [5.29],\n",
              "       [9.71],\n",
              "       [9.18],\n",
              "       [6.13],\n",
              "       [8.31],\n",
              "       [7.71],\n",
              "       [7.73],\n",
              "       [6.59],\n",
              "       [9.68],\n",
              "       [6.4 ],\n",
              "       [8.54],\n",
              "       [5.98],\n",
              "       [6.79],\n",
              "       [5.99],\n",
              "       [5.03],\n",
              "       [8.45],\n",
              "       [6.11],\n",
              "       [9.47]])"
            ]
          },
          "metadata": {},
          "execution_count": 35
        }
      ]
    },
    {
      "cell_type": "code",
      "source": [
        "y_test"
      ],
      "metadata": {
        "colab": {
          "base_uri": "https://localhost:8080/"
        },
        "id": "7VsDdNJItFd5",
        "outputId": "4a8f081a-7884-4a50-ff59-eb7a54a3a86d"
      },
      "execution_count": null,
      "outputs": [
        {
          "output_type": "execute_result",
          "data": {
            "text/plain": [
              "array([19.05,  9.6 , 20.22, 19.28, 16.57, 13.45, 11.36, 16.5 , 17.29,\n",
              "       18.01, 19.28, 16.4 , 12.53, 18.25, 17.62, 17.61, 11.7 , 15.27,\n",
              "       16.83, 12.64, 14.49, 19.31,  9.39, 19.27, 18.05, 11.05, 16.77,\n",
              "       15.18, 15.82, 12.2 , 19.35, 12.03, 17.87, 15.81, 12.85, 10.37,\n",
              "       10.17, 17.52, 10.98, 18.  ])"
            ]
          },
          "metadata": {},
          "execution_count": 36
        }
      ]
    },
    {
      "cell_type": "code",
      "source": [
        "from sklearn.linear_model import LinearRegression"
      ],
      "metadata": {
        "id": "6dJFESd6L2vd"
      },
      "execution_count": null,
      "outputs": []
    },
    {
      "cell_type": "code",
      "source": [
        "lr=LinearRegression()"
      ],
      "metadata": {
        "id": "GhjIPMdTMKqK"
      },
      "execution_count": null,
      "outputs": []
    },
    {
      "cell_type": "code",
      "source": [
        "lr.fit(x_train,y_train)"
      ],
      "metadata": {
        "colab": {
          "base_uri": "https://localhost:8080/",
          "height": 80
        },
        "id": "bwdDUCv5MNxG",
        "outputId": "29ceebd4-efe2-49bb-a8ef-079b07d98897"
      },
      "execution_count": null,
      "outputs": [
        {
          "output_type": "execute_result",
          "data": {
            "text/plain": [
              "LinearRegression()"
            ],
            "text/html": [
              "<style>#sk-container-id-2 {\n",
              "  /* Definition of color scheme common for light and dark mode */\n",
              "  --sklearn-color-text: #000;\n",
              "  --sklearn-color-text-muted: #666;\n",
              "  --sklearn-color-line: gray;\n",
              "  /* Definition of color scheme for unfitted estimators */\n",
              "  --sklearn-color-unfitted-level-0: #fff5e6;\n",
              "  --sklearn-color-unfitted-level-1: #f6e4d2;\n",
              "  --sklearn-color-unfitted-level-2: #ffe0b3;\n",
              "  --sklearn-color-unfitted-level-3: chocolate;\n",
              "  /* Definition of color scheme for fitted estimators */\n",
              "  --sklearn-color-fitted-level-0: #f0f8ff;\n",
              "  --sklearn-color-fitted-level-1: #d4ebff;\n",
              "  --sklearn-color-fitted-level-2: #b3dbfd;\n",
              "  --sklearn-color-fitted-level-3: cornflowerblue;\n",
              "\n",
              "  /* Specific color for light theme */\n",
              "  --sklearn-color-text-on-default-background: var(--sg-text-color, var(--theme-code-foreground, var(--jp-content-font-color1, black)));\n",
              "  --sklearn-color-background: var(--sg-background-color, var(--theme-background, var(--jp-layout-color0, white)));\n",
              "  --sklearn-color-border-box: var(--sg-text-color, var(--theme-code-foreground, var(--jp-content-font-color1, black)));\n",
              "  --sklearn-color-icon: #696969;\n",
              "\n",
              "  @media (prefers-color-scheme: dark) {\n",
              "    /* Redefinition of color scheme for dark theme */\n",
              "    --sklearn-color-text-on-default-background: var(--sg-text-color, var(--theme-code-foreground, var(--jp-content-font-color1, white)));\n",
              "    --sklearn-color-background: var(--sg-background-color, var(--theme-background, var(--jp-layout-color0, #111)));\n",
              "    --sklearn-color-border-box: var(--sg-text-color, var(--theme-code-foreground, var(--jp-content-font-color1, white)));\n",
              "    --sklearn-color-icon: #878787;\n",
              "  }\n",
              "}\n",
              "\n",
              "#sk-container-id-2 {\n",
              "  color: var(--sklearn-color-text);\n",
              "}\n",
              "\n",
              "#sk-container-id-2 pre {\n",
              "  padding: 0;\n",
              "}\n",
              "\n",
              "#sk-container-id-2 input.sk-hidden--visually {\n",
              "  border: 0;\n",
              "  clip: rect(1px 1px 1px 1px);\n",
              "  clip: rect(1px, 1px, 1px, 1px);\n",
              "  height: 1px;\n",
              "  margin: -1px;\n",
              "  overflow: hidden;\n",
              "  padding: 0;\n",
              "  position: absolute;\n",
              "  width: 1px;\n",
              "}\n",
              "\n",
              "#sk-container-id-2 div.sk-dashed-wrapped {\n",
              "  border: 1px dashed var(--sklearn-color-line);\n",
              "  margin: 0 0.4em 0.5em 0.4em;\n",
              "  box-sizing: border-box;\n",
              "  padding-bottom: 0.4em;\n",
              "  background-color: var(--sklearn-color-background);\n",
              "}\n",
              "\n",
              "#sk-container-id-2 div.sk-container {\n",
              "  /* jupyter's `normalize.less` sets `[hidden] { display: none; }`\n",
              "     but bootstrap.min.css set `[hidden] { display: none !important; }`\n",
              "     so we also need the `!important` here to be able to override the\n",
              "     default hidden behavior on the sphinx rendered scikit-learn.org.\n",
              "     See: https://github.com/scikit-learn/scikit-learn/issues/21755 */\n",
              "  display: inline-block !important;\n",
              "  position: relative;\n",
              "}\n",
              "\n",
              "#sk-container-id-2 div.sk-text-repr-fallback {\n",
              "  display: none;\n",
              "}\n",
              "\n",
              "div.sk-parallel-item,\n",
              "div.sk-serial,\n",
              "div.sk-item {\n",
              "  /* draw centered vertical line to link estimators */\n",
              "  background-image: linear-gradient(var(--sklearn-color-text-on-default-background), var(--sklearn-color-text-on-default-background));\n",
              "  background-size: 2px 100%;\n",
              "  background-repeat: no-repeat;\n",
              "  background-position: center center;\n",
              "}\n",
              "\n",
              "/* Parallel-specific style estimator block */\n",
              "\n",
              "#sk-container-id-2 div.sk-parallel-item::after {\n",
              "  content: \"\";\n",
              "  width: 100%;\n",
              "  border-bottom: 2px solid var(--sklearn-color-text-on-default-background);\n",
              "  flex-grow: 1;\n",
              "}\n",
              "\n",
              "#sk-container-id-2 div.sk-parallel {\n",
              "  display: flex;\n",
              "  align-items: stretch;\n",
              "  justify-content: center;\n",
              "  background-color: var(--sklearn-color-background);\n",
              "  position: relative;\n",
              "}\n",
              "\n",
              "#sk-container-id-2 div.sk-parallel-item {\n",
              "  display: flex;\n",
              "  flex-direction: column;\n",
              "}\n",
              "\n",
              "#sk-container-id-2 div.sk-parallel-item:first-child::after {\n",
              "  align-self: flex-end;\n",
              "  width: 50%;\n",
              "}\n",
              "\n",
              "#sk-container-id-2 div.sk-parallel-item:last-child::after {\n",
              "  align-self: flex-start;\n",
              "  width: 50%;\n",
              "}\n",
              "\n",
              "#sk-container-id-2 div.sk-parallel-item:only-child::after {\n",
              "  width: 0;\n",
              "}\n",
              "\n",
              "/* Serial-specific style estimator block */\n",
              "\n",
              "#sk-container-id-2 div.sk-serial {\n",
              "  display: flex;\n",
              "  flex-direction: column;\n",
              "  align-items: center;\n",
              "  background-color: var(--sklearn-color-background);\n",
              "  padding-right: 1em;\n",
              "  padding-left: 1em;\n",
              "}\n",
              "\n",
              "\n",
              "/* Toggleable style: style used for estimator/Pipeline/ColumnTransformer box that is\n",
              "clickable and can be expanded/collapsed.\n",
              "- Pipeline and ColumnTransformer use this feature and define the default style\n",
              "- Estimators will overwrite some part of the style using the `sk-estimator` class\n",
              "*/\n",
              "\n",
              "/* Pipeline and ColumnTransformer style (default) */\n",
              "\n",
              "#sk-container-id-2 div.sk-toggleable {\n",
              "  /* Default theme specific background. It is overwritten whether we have a\n",
              "  specific estimator or a Pipeline/ColumnTransformer */\n",
              "  background-color: var(--sklearn-color-background);\n",
              "}\n",
              "\n",
              "/* Toggleable label */\n",
              "#sk-container-id-2 label.sk-toggleable__label {\n",
              "  cursor: pointer;\n",
              "  display: flex;\n",
              "  width: 100%;\n",
              "  margin-bottom: 0;\n",
              "  padding: 0.5em;\n",
              "  box-sizing: border-box;\n",
              "  text-align: center;\n",
              "  align-items: start;\n",
              "  justify-content: space-between;\n",
              "  gap: 0.5em;\n",
              "}\n",
              "\n",
              "#sk-container-id-2 label.sk-toggleable__label .caption {\n",
              "  font-size: 0.6rem;\n",
              "  font-weight: lighter;\n",
              "  color: var(--sklearn-color-text-muted);\n",
              "}\n",
              "\n",
              "#sk-container-id-2 label.sk-toggleable__label-arrow:before {\n",
              "  /* Arrow on the left of the label */\n",
              "  content: \"▸\";\n",
              "  float: left;\n",
              "  margin-right: 0.25em;\n",
              "  color: var(--sklearn-color-icon);\n",
              "}\n",
              "\n",
              "#sk-container-id-2 label.sk-toggleable__label-arrow:hover:before {\n",
              "  color: var(--sklearn-color-text);\n",
              "}\n",
              "\n",
              "/* Toggleable content - dropdown */\n",
              "\n",
              "#sk-container-id-2 div.sk-toggleable__content {\n",
              "  max-height: 0;\n",
              "  max-width: 0;\n",
              "  overflow: hidden;\n",
              "  text-align: left;\n",
              "  /* unfitted */\n",
              "  background-color: var(--sklearn-color-unfitted-level-0);\n",
              "}\n",
              "\n",
              "#sk-container-id-2 div.sk-toggleable__content.fitted {\n",
              "  /* fitted */\n",
              "  background-color: var(--sklearn-color-fitted-level-0);\n",
              "}\n",
              "\n",
              "#sk-container-id-2 div.sk-toggleable__content pre {\n",
              "  margin: 0.2em;\n",
              "  border-radius: 0.25em;\n",
              "  color: var(--sklearn-color-text);\n",
              "  /* unfitted */\n",
              "  background-color: var(--sklearn-color-unfitted-level-0);\n",
              "}\n",
              "\n",
              "#sk-container-id-2 div.sk-toggleable__content.fitted pre {\n",
              "  /* unfitted */\n",
              "  background-color: var(--sklearn-color-fitted-level-0);\n",
              "}\n",
              "\n",
              "#sk-container-id-2 input.sk-toggleable__control:checked~div.sk-toggleable__content {\n",
              "  /* Expand drop-down */\n",
              "  max-height: 200px;\n",
              "  max-width: 100%;\n",
              "  overflow: auto;\n",
              "}\n",
              "\n",
              "#sk-container-id-2 input.sk-toggleable__control:checked~label.sk-toggleable__label-arrow:before {\n",
              "  content: \"▾\";\n",
              "}\n",
              "\n",
              "/* Pipeline/ColumnTransformer-specific style */\n",
              "\n",
              "#sk-container-id-2 div.sk-label input.sk-toggleable__control:checked~label.sk-toggleable__label {\n",
              "  color: var(--sklearn-color-text);\n",
              "  background-color: var(--sklearn-color-unfitted-level-2);\n",
              "}\n",
              "\n",
              "#sk-container-id-2 div.sk-label.fitted input.sk-toggleable__control:checked~label.sk-toggleable__label {\n",
              "  background-color: var(--sklearn-color-fitted-level-2);\n",
              "}\n",
              "\n",
              "/* Estimator-specific style */\n",
              "\n",
              "/* Colorize estimator box */\n",
              "#sk-container-id-2 div.sk-estimator input.sk-toggleable__control:checked~label.sk-toggleable__label {\n",
              "  /* unfitted */\n",
              "  background-color: var(--sklearn-color-unfitted-level-2);\n",
              "}\n",
              "\n",
              "#sk-container-id-2 div.sk-estimator.fitted input.sk-toggleable__control:checked~label.sk-toggleable__label {\n",
              "  /* fitted */\n",
              "  background-color: var(--sklearn-color-fitted-level-2);\n",
              "}\n",
              "\n",
              "#sk-container-id-2 div.sk-label label.sk-toggleable__label,\n",
              "#sk-container-id-2 div.sk-label label {\n",
              "  /* The background is the default theme color */\n",
              "  color: var(--sklearn-color-text-on-default-background);\n",
              "}\n",
              "\n",
              "/* On hover, darken the color of the background */\n",
              "#sk-container-id-2 div.sk-label:hover label.sk-toggleable__label {\n",
              "  color: var(--sklearn-color-text);\n",
              "  background-color: var(--sklearn-color-unfitted-level-2);\n",
              "}\n",
              "\n",
              "/* Label box, darken color on hover, fitted */\n",
              "#sk-container-id-2 div.sk-label.fitted:hover label.sk-toggleable__label.fitted {\n",
              "  color: var(--sklearn-color-text);\n",
              "  background-color: var(--sklearn-color-fitted-level-2);\n",
              "}\n",
              "\n",
              "/* Estimator label */\n",
              "\n",
              "#sk-container-id-2 div.sk-label label {\n",
              "  font-family: monospace;\n",
              "  font-weight: bold;\n",
              "  display: inline-block;\n",
              "  line-height: 1.2em;\n",
              "}\n",
              "\n",
              "#sk-container-id-2 div.sk-label-container {\n",
              "  text-align: center;\n",
              "}\n",
              "\n",
              "/* Estimator-specific */\n",
              "#sk-container-id-2 div.sk-estimator {\n",
              "  font-family: monospace;\n",
              "  border: 1px dotted var(--sklearn-color-border-box);\n",
              "  border-radius: 0.25em;\n",
              "  box-sizing: border-box;\n",
              "  margin-bottom: 0.5em;\n",
              "  /* unfitted */\n",
              "  background-color: var(--sklearn-color-unfitted-level-0);\n",
              "}\n",
              "\n",
              "#sk-container-id-2 div.sk-estimator.fitted {\n",
              "  /* fitted */\n",
              "  background-color: var(--sklearn-color-fitted-level-0);\n",
              "}\n",
              "\n",
              "/* on hover */\n",
              "#sk-container-id-2 div.sk-estimator:hover {\n",
              "  /* unfitted */\n",
              "  background-color: var(--sklearn-color-unfitted-level-2);\n",
              "}\n",
              "\n",
              "#sk-container-id-2 div.sk-estimator.fitted:hover {\n",
              "  /* fitted */\n",
              "  background-color: var(--sklearn-color-fitted-level-2);\n",
              "}\n",
              "\n",
              "/* Specification for estimator info (e.g. \"i\" and \"?\") */\n",
              "\n",
              "/* Common style for \"i\" and \"?\" */\n",
              "\n",
              ".sk-estimator-doc-link,\n",
              "a:link.sk-estimator-doc-link,\n",
              "a:visited.sk-estimator-doc-link {\n",
              "  float: right;\n",
              "  font-size: smaller;\n",
              "  line-height: 1em;\n",
              "  font-family: monospace;\n",
              "  background-color: var(--sklearn-color-background);\n",
              "  border-radius: 1em;\n",
              "  height: 1em;\n",
              "  width: 1em;\n",
              "  text-decoration: none !important;\n",
              "  margin-left: 0.5em;\n",
              "  text-align: center;\n",
              "  /* unfitted */\n",
              "  border: var(--sklearn-color-unfitted-level-1) 1pt solid;\n",
              "  color: var(--sklearn-color-unfitted-level-1);\n",
              "}\n",
              "\n",
              ".sk-estimator-doc-link.fitted,\n",
              "a:link.sk-estimator-doc-link.fitted,\n",
              "a:visited.sk-estimator-doc-link.fitted {\n",
              "  /* fitted */\n",
              "  border: var(--sklearn-color-fitted-level-1) 1pt solid;\n",
              "  color: var(--sklearn-color-fitted-level-1);\n",
              "}\n",
              "\n",
              "/* On hover */\n",
              "div.sk-estimator:hover .sk-estimator-doc-link:hover,\n",
              ".sk-estimator-doc-link:hover,\n",
              "div.sk-label-container:hover .sk-estimator-doc-link:hover,\n",
              ".sk-estimator-doc-link:hover {\n",
              "  /* unfitted */\n",
              "  background-color: var(--sklearn-color-unfitted-level-3);\n",
              "  color: var(--sklearn-color-background);\n",
              "  text-decoration: none;\n",
              "}\n",
              "\n",
              "div.sk-estimator.fitted:hover .sk-estimator-doc-link.fitted:hover,\n",
              ".sk-estimator-doc-link.fitted:hover,\n",
              "div.sk-label-container:hover .sk-estimator-doc-link.fitted:hover,\n",
              ".sk-estimator-doc-link.fitted:hover {\n",
              "  /* fitted */\n",
              "  background-color: var(--sklearn-color-fitted-level-3);\n",
              "  color: var(--sklearn-color-background);\n",
              "  text-decoration: none;\n",
              "}\n",
              "\n",
              "/* Span, style for the box shown on hovering the info icon */\n",
              ".sk-estimator-doc-link span {\n",
              "  display: none;\n",
              "  z-index: 9999;\n",
              "  position: relative;\n",
              "  font-weight: normal;\n",
              "  right: .2ex;\n",
              "  padding: .5ex;\n",
              "  margin: .5ex;\n",
              "  width: min-content;\n",
              "  min-width: 20ex;\n",
              "  max-width: 50ex;\n",
              "  color: var(--sklearn-color-text);\n",
              "  box-shadow: 2pt 2pt 4pt #999;\n",
              "  /* unfitted */\n",
              "  background: var(--sklearn-color-unfitted-level-0);\n",
              "  border: .5pt solid var(--sklearn-color-unfitted-level-3);\n",
              "}\n",
              "\n",
              ".sk-estimator-doc-link.fitted span {\n",
              "  /* fitted */\n",
              "  background: var(--sklearn-color-fitted-level-0);\n",
              "  border: var(--sklearn-color-fitted-level-3);\n",
              "}\n",
              "\n",
              ".sk-estimator-doc-link:hover span {\n",
              "  display: block;\n",
              "}\n",
              "\n",
              "/* \"?\"-specific style due to the `<a>` HTML tag */\n",
              "\n",
              "#sk-container-id-2 a.estimator_doc_link {\n",
              "  float: right;\n",
              "  font-size: 1rem;\n",
              "  line-height: 1em;\n",
              "  font-family: monospace;\n",
              "  background-color: var(--sklearn-color-background);\n",
              "  border-radius: 1rem;\n",
              "  height: 1rem;\n",
              "  width: 1rem;\n",
              "  text-decoration: none;\n",
              "  /* unfitted */\n",
              "  color: var(--sklearn-color-unfitted-level-1);\n",
              "  border: var(--sklearn-color-unfitted-level-1) 1pt solid;\n",
              "}\n",
              "\n",
              "#sk-container-id-2 a.estimator_doc_link.fitted {\n",
              "  /* fitted */\n",
              "  border: var(--sklearn-color-fitted-level-1) 1pt solid;\n",
              "  color: var(--sklearn-color-fitted-level-1);\n",
              "}\n",
              "\n",
              "/* On hover */\n",
              "#sk-container-id-2 a.estimator_doc_link:hover {\n",
              "  /* unfitted */\n",
              "  background-color: var(--sklearn-color-unfitted-level-3);\n",
              "  color: var(--sklearn-color-background);\n",
              "  text-decoration: none;\n",
              "}\n",
              "\n",
              "#sk-container-id-2 a.estimator_doc_link.fitted:hover {\n",
              "  /* fitted */\n",
              "  background-color: var(--sklearn-color-fitted-level-3);\n",
              "}\n",
              "</style><div id=\"sk-container-id-2\" class=\"sk-top-container\"><div class=\"sk-text-repr-fallback\"><pre>LinearRegression()</pre><b>In a Jupyter environment, please rerun this cell to show the HTML representation or trust the notebook. <br />On GitHub, the HTML representation is unable to render, please try loading this page with nbviewer.org.</b></div><div class=\"sk-container\" hidden><div class=\"sk-item\"><div class=\"sk-estimator fitted sk-toggleable\"><input class=\"sk-toggleable__control sk-hidden--visually\" id=\"sk-estimator-id-2\" type=\"checkbox\" checked><label for=\"sk-estimator-id-2\" class=\"sk-toggleable__label fitted sk-toggleable__label-arrow\"><div><div>LinearRegression</div></div><div><a class=\"sk-estimator-doc-link fitted\" rel=\"noreferrer\" target=\"_blank\" href=\"https://scikit-learn.org/1.6/modules/generated/sklearn.linear_model.LinearRegression.html\">?<span>Documentation for LinearRegression</span></a><span class=\"sk-estimator-doc-link fitted\">i<span>Fitted</span></span></div></label><div class=\"sk-toggleable__content fitted\"><pre>LinearRegression()</pre></div> </div></div></div></div>"
            ]
          },
          "metadata": {},
          "execution_count": 39
        }
      ]
    },
    {
      "cell_type": "code",
      "source": [
        "pre=lr.predict(x_test)"
      ],
      "metadata": {
        "id": "sNJDiEKYMXOu"
      },
      "execution_count": null,
      "outputs": []
    },
    {
      "cell_type": "code",
      "source": [
        "lr.predict(x_test[0].reshape(1,1))"
      ],
      "metadata": {
        "colab": {
          "base_uri": "https://localhost:8080/"
        },
        "id": "xqlBCGr3Ot0P",
        "outputId": "347da289-6f10-4193-aaf2-2d8576e035f6"
      },
      "execution_count": null,
      "outputs": [
        {
          "output_type": "execute_result",
          "data": {
            "text/plain": [
              "array([19.31894882])"
            ]
          },
          "metadata": {},
          "execution_count": 54
        }
      ]
    },
    {
      "cell_type": "code",
      "source": [
        "plt.scatter(x_test,y_test)\n",
        "plt.plot(x_test,pre,color='red')\n",
        "plt.xlabel('CGPA')\n",
        "plt.ylabel('Package(LPA)')\n",
        "plt.show()"
      ],
      "metadata": {
        "colab": {
          "base_uri": "https://localhost:8080/",
          "height": 449
        },
        "id": "baEF0H6RMeuZ",
        "outputId": "47b7703b-7344-4a3c-e7ff-a8694f1ab321"
      },
      "execution_count": null,
      "outputs": [
        {
          "output_type": "display_data",
          "data": {
            "text/plain": [
              "<Figure size 640x480 with 1 Axes>"
            ],
            "image/png": "[encoded data removed]"
          },
          "metadata": {}
        }
      ]
    },
    {
      "cell_type": "code",
      "source": [
        "sorted_indices = x_test.flatten().argsort()\n",
        "plt.scatter(x_test, y_test)\n",
        "plt.plot(x_test.flatten()[sorted_indices], pre.flatten()[sorted_indices], color='red')"
      ],
      "metadata": {
        "colab": {
          "base_uri": "https://localhost:8080/",
          "height": 447
        },
        "id": "No2XFlRXNrEL",
        "outputId": "42079566-6d52-43b4-8b9b-8ff63434cc47"
      },
      "execution_count": null,
      "outputs": [
        {
          "output_type": "execute_result",
          "data": {
            "text/plain": [
              "[<matplotlib.lines.Line2D at 0x7c2edc06b0d0>]"
            ]
          },
          "metadata": {},
          "execution_count": 48
        },
        {
          "output_type": "display_data",
          "data": {
            "text/plain": [
              "<Figure size 640x480 with 1 Axes>"
            ],
            "image/png": "[encoded data removed]"
          },
          "metadata": {}
        }
      ]
    },
    {
      "cell_type": "code",
      "source": [
        "plt.scatter(X,Y)\n",
        "plt.plot(x_train,lr.predict(x_train),color='red')\n",
        "plt.xlabel('CGPA')\n",
        "plt.ylabel('Package(LPA)')\n",
        "plt.show()"
      ],
      "metadata": {
        "colab": {
          "base_uri": "https://localhost:8080/",
          "height": 449
        },
        "id": "FiHNBYCz4M7N",
        "outputId": "f623271f-84cc-4d1c-d401-293e0515334d"
      },
      "execution_count": null,
      "outputs": [
        {
          "output_type": "display_data",
          "data": {
            "text/plain": [
              "<Figure size 640x480 with 1 Axes>"
            ],
            "image/png": "[encoded data removed]"
          },
          "metadata": {}
        }
      ]
    },
    {
      "cell_type": "code",
      "source": [
        "plt.scatter(X,Y)\n",
        "plt.plot(X,lr.predict(X),color='red')\n",
        "plt.xlabel('CGPA')\n",
        "plt.ylabel('Package(LPA)')\n",
        "plt.show()"
      ],
      "metadata": {
        "colab": {
          "base_uri": "https://localhost:8080/",
          "height": 449
        },
        "id": "u_Jjl6kz5fgH",
        "outputId": "06418390-0d3c-4bf8-ed51-9a71a5970521"
      },
      "execution_count": null,
      "outputs": [
        {
          "output_type": "display_data",
          "data": {
            "text/plain": [
              "<Figure size 640x480 with 1 Axes>"
            ],
            "image/png": "[encoded data removed]"
          },
          "metadata": {}
        }
      ]
    },
    {
      "cell_type": "code",
      "source": [
        "m=lr.coef_\n",
        "m"
      ],
      "metadata": {
        "colab": {
          "base_uri": "https://localhost:8080/"
        },
        "id": "WbwtX-xP5wjV",
        "outputId": "d244157a-3364-4eba-b856-e99e36fa8bbc"
      },
      "execution_count": null,
      "outputs": [
        {
          "output_type": "execute_result",
          "data": {
            "text/plain": [
              "array([1.97270451])"
            ]
          },
          "metadata": {},
          "execution_count": 51
        }
      ]
    },
    {
      "cell_type": "code",
      "source": [
        "b=lr.intercept_\n",
        "b"
      ],
      "metadata": {
        "colab": {
          "base_uri": "https://localhost:8080/"
        },
        "id": "p_8mTk-450v6",
        "outputId": "738b3357-4c86-49e9-d318-c6c73ecb2952"
      },
      "execution_count": null,
      "outputs": [
        {
          "output_type": "execute_result",
          "data": {
            "text/plain": [
              "np.float64(0.28235027410096514)"
            ]
          },
          "metadata": {},
          "execution_count": 52
        }
      ]
    },
    {
      "cell_type": "code",
      "source": [
        "#y=mx+b"
      ],
      "metadata": {
        "id": "ppjfblZ258SG"
      },
      "execution_count": null,
      "outputs": []
    },
    {
      "cell_type": "code",
      "source": [
        "from sklearn.metrics import mean_absolute_error,mean_squared_error,root_mean_squared_error,r2_score\n"
      ],
      "metadata": {
        "id": "heQDS7OGC10R"
      },
      "execution_count": null,
      "outputs": []
    },
    {
      "cell_type": "code",
      "source": [
        "mean_squared_error(y_test,pre)"
      ],
      "metadata": {
        "colab": {
          "base_uri": "https://localhost:8080/"
        },
        "id": "Uj-ekNj-EiKX",
        "outputId": "0bb6a745-4324-41af-bb02-333360e23d6f"
      },
      "execution_count": null,
      "outputs": [
        {
          "output_type": "execute_result",
          "data": {
            "text/plain": [
              "1.1131920117485326"
            ]
          },
          "metadata": {},
          "execution_count": 59
        }
      ]
    },
    {
      "cell_type": "code",
      "source": [
        "root_mean_squared_error(y_test,pre)"
      ],
      "metadata": {
        "colab": {
          "base_uri": "https://localhost:8080/"
        },
        "id": "WMx_oaJ_Ekmz",
        "outputId": "6db87a64-d9da-4e4d-e99d-c0270664c22b"
      },
      "execution_count": null,
      "outputs": [
        {
          "output_type": "execute_result",
          "data": {
            "text/plain": [
              "1.0550791495184295"
            ]
          },
          "metadata": {},
          "execution_count": 60
        }
      ]
    },
    {
      "cell_type": "code",
      "source": [
        "mean_absolute_error(y_test,pre)"
      ],
      "metadata": {
        "colab": {
          "base_uri": "https://localhost:8080/"
        },
        "id": "VfOGTracEffu",
        "outputId": "f373e25a-cfc7-482c-a954-5dd2f964677a"
      },
      "execution_count": null,
      "outputs": [
        {
          "output_type": "execute_result",
          "data": {
            "text/plain": [
              "0.8124816011627448"
            ]
          },
          "metadata": {},
          "execution_count": 57
        }
      ]
    },
    {
      "cell_type": "code",
      "source": [
        "r2_score(y_test,pre)"
      ],
      "metadata": {
        "colab": {
          "base_uri": "https://localhost:8080/"
        },
        "id": "f7khcNIKEnHV",
        "outputId": "0cfa53ee-18e3-4096-9e1c-9193ab9b549d"
      },
      "execution_count": null,
      "outputs": [
        {
          "output_type": "execute_result",
          "data": {
            "text/plain": [
              "0.8920822345915582"
            ]
          },
          "metadata": {},
          "execution_count": 61
        }
      ]
    },
    {
      "cell_type": "code",
      "source": [
        "adjusted_r2_score=1-((1-r2_score(y_test,pre))*(40-1)/(40-1-1))\n",
        "adjusted_r2_score"
      ],
      "metadata": {
        "colab": {
          "base_uri": "https://localhost:8080/"
        },
        "id": "nfpuPX-QEpTN",
        "outputId": "580d78f2-0ced-4073-e45c-5f6e5ee14f23"
      },
      "execution_count": null,
      "outputs": [
        {
          "output_type": "execute_result",
          "data": {
            "text/plain": [
              "0.8892422933965992"
            ]
          },
          "metadata": {},
          "execution_count": 65
        }
      ]
    }
  ]
}